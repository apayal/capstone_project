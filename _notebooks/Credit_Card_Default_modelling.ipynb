{
 "cells": [
  {
   "cell_type": "code",
   "execution_count": 1,
   "id": "68d0d2f2",
   "metadata": {},
   "outputs": [
    {
     "name": "stderr",
     "output_type": "stream",
     "text": [
      "c:\\Users\\Robin\\anaconda3\\lib\\site-packages\\xgboost\\compat.py:93: FutureWarning: pandas.Int64Index is deprecated and will be removed from pandas in a future version. Use pandas.Index with the appropriate dtype instead.\n",
      "  from pandas import MultiIndex, Int64Index\n"
     ]
    }
   ],
   "source": [
    "#basic and viz libraries\n",
    "import numpy as np\n",
    "import pandas as pd\n",
    "import matplotlib.pyplot as plt\n",
    "import seaborn as sns\n",
    "from scipy.stats import norm\n",
    "from imblearn.over_sampling import SMOTE\n",
    "\n",
    "#Model Building Libraries\n",
    "from sklearn.model_selection import train_test_split\n",
    "from sklearn.model_selection import GridSearchCV\n",
    "from sklearn.linear_model import LogisticRegression\n",
    "from sklearn.neighbors import KNeighborsClassifier\n",
    "from sklearn.svm import SVC\n",
    "from xgboost import XGBClassifier\n",
    "from sklearn.metrics import accuracy_score,classification_report, recall_score, precision_score, f1_score, roc_auc_score, roc_curve\n",
    "\n",
    "#Dimensionality Reduction\n",
    "from sklearn.decomposition import PCA\n",
    "from sklearn.preprocessing import StandardScaler\n",
    "sc = StandardScaler()\n",
    "\n",
    "#Cross-Validation\n",
    "from sklearn.model_selection import cross_val_score\n",
    "\n",
    "#settings\n",
    "pd.set_option('display.max_columns', None)\n",
    "pd.set_option('display.max_rows', None)\n",
    "import warnings\n",
    "warnings.filterwarnings(\"ignore\")"
   ]
  },
  {
   "cell_type": "code",
   "execution_count": 2,
   "id": "beeb93ab",
   "metadata": {},
   "outputs": [
    {
     "data": {
      "text/html": [
       "<div>\n",
       "<style scoped>\n",
       "    .dataframe tbody tr th:only-of-type {\n",
       "        vertical-align: middle;\n",
       "    }\n",
       "\n",
       "    .dataframe tbody tr th {\n",
       "        vertical-align: top;\n",
       "    }\n",
       "\n",
       "    .dataframe thead th {\n",
       "        text-align: right;\n",
       "    }\n",
       "</style>\n",
       "<table border=\"1\" class=\"dataframe\">\n",
       "  <thead>\n",
       "    <tr style=\"text-align: right;\">\n",
       "      <th></th>\n",
       "      <th>ID</th>\n",
       "      <th>LIMIT_BAL</th>\n",
       "      <th>SEX</th>\n",
       "      <th>AGE</th>\n",
       "      <th>PAY_1</th>\n",
       "      <th>PAY_2</th>\n",
       "      <th>PAY_3</th>\n",
       "      <th>PAY_4</th>\n",
       "      <th>PAY_5</th>\n",
       "      <th>PAY_6</th>\n",
       "      <th>BILL_AMT1</th>\n",
       "      <th>BILL_AMT2</th>\n",
       "      <th>BILL_AMT3</th>\n",
       "      <th>BILL_AMT4</th>\n",
       "      <th>BILL_AMT5</th>\n",
       "      <th>BILL_AMT6</th>\n",
       "      <th>PAY_AMT1</th>\n",
       "      <th>PAY_AMT2</th>\n",
       "      <th>PAY_AMT3</th>\n",
       "      <th>PAY_AMT4</th>\n",
       "      <th>PAY_AMT5</th>\n",
       "      <th>PAY_AMT6</th>\n",
       "      <th>DEFAULT</th>\n",
       "      <th>Education_higher</th>\n",
       "      <th>Education_university</th>\n",
       "      <th>Education_highschool</th>\n",
       "      <th>Marriage_Single</th>\n",
       "      <th>Marriage_Other</th>\n",
       "    </tr>\n",
       "  </thead>\n",
       "  <tbody>\n",
       "    <tr>\n",
       "      <th>0</th>\n",
       "      <td>1</td>\n",
       "      <td>20000</td>\n",
       "      <td>1</td>\n",
       "      <td>24</td>\n",
       "      <td>3</td>\n",
       "      <td>3</td>\n",
       "      <td>0</td>\n",
       "      <td>0</td>\n",
       "      <td>-1</td>\n",
       "      <td>-1</td>\n",
       "      <td>3913</td>\n",
       "      <td>3102</td>\n",
       "      <td>689</td>\n",
       "      <td>0</td>\n",
       "      <td>0</td>\n",
       "      <td>0</td>\n",
       "      <td>0</td>\n",
       "      <td>689</td>\n",
       "      <td>0</td>\n",
       "      <td>0</td>\n",
       "      <td>0</td>\n",
       "      <td>0</td>\n",
       "      <td>1</td>\n",
       "      <td>0</td>\n",
       "      <td>1</td>\n",
       "      <td>0</td>\n",
       "      <td>0</td>\n",
       "      <td>0</td>\n",
       "    </tr>\n",
       "    <tr>\n",
       "      <th>1</th>\n",
       "      <td>2</td>\n",
       "      <td>120000</td>\n",
       "      <td>1</td>\n",
       "      <td>26</td>\n",
       "      <td>0</td>\n",
       "      <td>3</td>\n",
       "      <td>1</td>\n",
       "      <td>1</td>\n",
       "      <td>1</td>\n",
       "      <td>3</td>\n",
       "      <td>2682</td>\n",
       "      <td>1725</td>\n",
       "      <td>2682</td>\n",
       "      <td>3272</td>\n",
       "      <td>3455</td>\n",
       "      <td>3261</td>\n",
       "      <td>0</td>\n",
       "      <td>1000</td>\n",
       "      <td>1000</td>\n",
       "      <td>1000</td>\n",
       "      <td>0</td>\n",
       "      <td>2000</td>\n",
       "      <td>1</td>\n",
       "      <td>0</td>\n",
       "      <td>1</td>\n",
       "      <td>0</td>\n",
       "      <td>1</td>\n",
       "      <td>0</td>\n",
       "    </tr>\n",
       "    <tr>\n",
       "      <th>2</th>\n",
       "      <td>3</td>\n",
       "      <td>90000</td>\n",
       "      <td>1</td>\n",
       "      <td>34</td>\n",
       "      <td>1</td>\n",
       "      <td>1</td>\n",
       "      <td>1</td>\n",
       "      <td>1</td>\n",
       "      <td>1</td>\n",
       "      <td>1</td>\n",
       "      <td>29239</td>\n",
       "      <td>14027</td>\n",
       "      <td>13559</td>\n",
       "      <td>14331</td>\n",
       "      <td>14948</td>\n",
       "      <td>15549</td>\n",
       "      <td>1518</td>\n",
       "      <td>1500</td>\n",
       "      <td>1000</td>\n",
       "      <td>1000</td>\n",
       "      <td>1000</td>\n",
       "      <td>5000</td>\n",
       "      <td>0</td>\n",
       "      <td>0</td>\n",
       "      <td>1</td>\n",
       "      <td>0</td>\n",
       "      <td>1</td>\n",
       "      <td>0</td>\n",
       "    </tr>\n",
       "    <tr>\n",
       "      <th>3</th>\n",
       "      <td>4</td>\n",
       "      <td>50000</td>\n",
       "      <td>1</td>\n",
       "      <td>37</td>\n",
       "      <td>1</td>\n",
       "      <td>1</td>\n",
       "      <td>1</td>\n",
       "      <td>1</td>\n",
       "      <td>1</td>\n",
       "      <td>1</td>\n",
       "      <td>46990</td>\n",
       "      <td>48233</td>\n",
       "      <td>49291</td>\n",
       "      <td>28314</td>\n",
       "      <td>28959</td>\n",
       "      <td>29547</td>\n",
       "      <td>2000</td>\n",
       "      <td>2019</td>\n",
       "      <td>1200</td>\n",
       "      <td>1100</td>\n",
       "      <td>1069</td>\n",
       "      <td>1000</td>\n",
       "      <td>0</td>\n",
       "      <td>0</td>\n",
       "      <td>1</td>\n",
       "      <td>0</td>\n",
       "      <td>0</td>\n",
       "      <td>0</td>\n",
       "    </tr>\n",
       "    <tr>\n",
       "      <th>4</th>\n",
       "      <td>5</td>\n",
       "      <td>50000</td>\n",
       "      <td>0</td>\n",
       "      <td>57</td>\n",
       "      <td>0</td>\n",
       "      <td>1</td>\n",
       "      <td>0</td>\n",
       "      <td>1</td>\n",
       "      <td>1</td>\n",
       "      <td>1</td>\n",
       "      <td>8617</td>\n",
       "      <td>5670</td>\n",
       "      <td>35835</td>\n",
       "      <td>20940</td>\n",
       "      <td>19146</td>\n",
       "      <td>19131</td>\n",
       "      <td>2000</td>\n",
       "      <td>36681</td>\n",
       "      <td>10000</td>\n",
       "      <td>9000</td>\n",
       "      <td>689</td>\n",
       "      <td>679</td>\n",
       "      <td>0</td>\n",
       "      <td>0</td>\n",
       "      <td>1</td>\n",
       "      <td>0</td>\n",
       "      <td>0</td>\n",
       "      <td>0</td>\n",
       "    </tr>\n",
       "  </tbody>\n",
       "</table>\n",
       "</div>"
      ],
      "text/plain": [
       "   ID  LIMIT_BAL  SEX  AGE  PAY_1  PAY_2  PAY_3  PAY_4  PAY_5  PAY_6  \\\n",
       "0   1      20000    1   24      3      3      0      0     -1     -1   \n",
       "1   2     120000    1   26      0      3      1      1      1      3   \n",
       "2   3      90000    1   34      1      1      1      1      1      1   \n",
       "3   4      50000    1   37      1      1      1      1      1      1   \n",
       "4   5      50000    0   57      0      1      0      1      1      1   \n",
       "\n",
       "   BILL_AMT1  BILL_AMT2  BILL_AMT3  BILL_AMT4  BILL_AMT5  BILL_AMT6  PAY_AMT1  \\\n",
       "0       3913       3102        689          0          0          0         0   \n",
       "1       2682       1725       2682       3272       3455       3261         0   \n",
       "2      29239      14027      13559      14331      14948      15549      1518   \n",
       "3      46990      48233      49291      28314      28959      29547      2000   \n",
       "4       8617       5670      35835      20940      19146      19131      2000   \n",
       "\n",
       "   PAY_AMT2  PAY_AMT3  PAY_AMT4  PAY_AMT5  PAY_AMT6  DEFAULT  \\\n",
       "0       689         0         0         0         0        1   \n",
       "1      1000      1000      1000         0      2000        1   \n",
       "2      1500      1000      1000      1000      5000        0   \n",
       "3      2019      1200      1100      1069      1000        0   \n",
       "4     36681     10000      9000       689       679        0   \n",
       "\n",
       "   Education_higher  Education_university  Education_highschool  \\\n",
       "0                 0                     1                     0   \n",
       "1                 0                     1                     0   \n",
       "2                 0                     1                     0   \n",
       "3                 0                     1                     0   \n",
       "4                 0                     1                     0   \n",
       "\n",
       "   Marriage_Single  Marriage_Other  \n",
       "0                0               0  \n",
       "1                1               0  \n",
       "2                1               0  \n",
       "3                0               0  \n",
       "4                0               0  "
      ]
     },
     "execution_count": 2,
     "metadata": {},
     "output_type": "execute_result"
    }
   ],
   "source": [
    "credit_df = pd.read_csv(\"credit-df-dataset-cleaned.csv\")\n",
    "credit_df.head()"
   ]
  },
  {
   "cell_type": "code",
   "execution_count": null,
   "id": "fba39981",
   "metadata": {},
   "outputs": [],
   "source": [
    "#independent and dependent columns\n",
    "\n",
    "Y = credit_df[:]['DEFAULT']\n",
    "X = credit_df.drop(['DEFAULT','ID'], axis=1)"
   ]
  },
  {
   "cell_type": "code",
   "execution_count": null,
   "id": "fab6efe1",
   "metadata": {},
   "outputs": [
    {
     "name": "stdout",
     "output_type": "stream",
     "text": [
      "Number transactions X_train dataset:  (24000, 26)\n",
      "Number transactions y_train dataset:  (24000,)\n",
      "Number transactions X_test dataset:  (6000, 26)\n",
      "Number transactions y_test dataset:  (6000,)\n"
     ]
    }
   ],
   "source": [
    "#splitting data into training and testing\n",
    "X_train, X_test, y_train, y_test = train_test_split(X, Y, test_size = 0.2, random_state = 0)\n",
    "  \n",
    "# describes info about train and test set\n",
    "print(\"Number transactions X_train dataset: \", X_train.shape)\n",
    "print(\"Number transactions y_train dataset: \", y_train.shape)\n",
    "print(\"Number transactions X_test dataset: \", X_test.shape)\n",
    "print(\"Number transactions y_test dataset: \", y_test.shape)"
   ]
  },
  {
   "cell_type": "code",
   "execution_count": null,
   "id": "036057a5",
   "metadata": {},
   "outputs": [
    {
     "name": "stdout",
     "output_type": "stream",
     "text": [
      "Before OverSampling, counts of label '1': 5339\n",
      "Before OverSampling, counts of label '0': 18661 \n",
      "\n",
      "After OverSampling, the shape of train_X: (37322, 26)\n",
      "After OverSampling, the shape of train_y: (37322,) \n",
      "\n",
      "After OverSampling, counts of label '1': 18661\n",
      "After OverSampling, counts of label '0': 18661\n"
     ]
    }
   ],
   "source": [
    "#SMOTE\n",
    "\n",
    "print(\"Before OverSampling, counts of label '1': {}\".format(sum(y_train == 1)))\n",
    "print(\"Before OverSampling, counts of label '0': {} \\n\".format(sum(y_train == 0)))\n",
    "\n",
    "sm = SMOTE(random_state = 2)\n",
    "X_train_res, y_train_res = sm.fit_resample(X_train, y_train.ravel())\n",
    "  \n",
    "print('After OverSampling, the shape of train_X: {}'.format(X_train_res.shape))\n",
    "print('After OverSampling, the shape of train_y: {} \\n'.format(y_train_res.shape))\n",
    "  \n",
    "print(\"After OverSampling, counts of label '1': {}\".format(sum(y_train_res == 1)))\n",
    "print(\"After OverSampling, counts of label '0': {}\".format(sum(y_train_res == 0)))"
   ]
  },
  {
   "cell_type": "code",
   "execution_count": null,
   "id": "cff78583",
   "metadata": {},
   "outputs": [
    {
     "data": {
      "text/html": [
       "<div>\n",
       "<style scoped>\n",
       "    .dataframe tbody tr th:only-of-type {\n",
       "        vertical-align: middle;\n",
       "    }\n",
       "\n",
       "    .dataframe tbody tr th {\n",
       "        vertical-align: top;\n",
       "    }\n",
       "\n",
       "    .dataframe thead th {\n",
       "        text-align: right;\n",
       "    }\n",
       "</style>\n",
       "<table border=\"1\" class=\"dataframe\">\n",
       "  <thead>\n",
       "    <tr style=\"text-align: right;\">\n",
       "      <th></th>\n",
       "      <th>LIMIT_BAL</th>\n",
       "      <th>SEX</th>\n",
       "      <th>AGE</th>\n",
       "      <th>PAY_1</th>\n",
       "      <th>PAY_2</th>\n",
       "      <th>PAY_3</th>\n",
       "      <th>PAY_4</th>\n",
       "      <th>PAY_5</th>\n",
       "      <th>PAY_6</th>\n",
       "      <th>BILL_AMT1</th>\n",
       "      <th>BILL_AMT2</th>\n",
       "      <th>BILL_AMT3</th>\n",
       "      <th>BILL_AMT4</th>\n",
       "      <th>BILL_AMT5</th>\n",
       "      <th>BILL_AMT6</th>\n",
       "      <th>PAY_AMT1</th>\n",
       "      <th>PAY_AMT2</th>\n",
       "      <th>PAY_AMT3</th>\n",
       "      <th>PAY_AMT4</th>\n",
       "      <th>PAY_AMT5</th>\n",
       "      <th>PAY_AMT6</th>\n",
       "      <th>Education_higher</th>\n",
       "      <th>Education_university</th>\n",
       "      <th>Education_highschool</th>\n",
       "      <th>Marriage_Single</th>\n",
       "      <th>Marriage_Other</th>\n",
       "    </tr>\n",
       "  </thead>\n",
       "  <tbody>\n",
       "    <tr>\n",
       "      <th>0</th>\n",
       "      <td>20000</td>\n",
       "      <td>1</td>\n",
       "      <td>44</td>\n",
       "      <td>1</td>\n",
       "      <td>1</td>\n",
       "      <td>3</td>\n",
       "      <td>1</td>\n",
       "      <td>1</td>\n",
       "      <td>-1</td>\n",
       "      <td>17095</td>\n",
       "      <td>19112</td>\n",
       "      <td>17980</td>\n",
       "      <td>18780</td>\n",
       "      <td>0</td>\n",
       "      <td>0</td>\n",
       "      <td>3000</td>\n",
       "      <td>0</td>\n",
       "      <td>1000</td>\n",
       "      <td>1000</td>\n",
       "      <td>0</td>\n",
       "      <td>0</td>\n",
       "      <td>0</td>\n",
       "      <td>0</td>\n",
       "      <td>1</td>\n",
       "      <td>0</td>\n",
       "      <td>0</td>\n",
       "    </tr>\n",
       "    <tr>\n",
       "      <th>1</th>\n",
       "      <td>260000</td>\n",
       "      <td>1</td>\n",
       "      <td>30</td>\n",
       "      <td>0</td>\n",
       "      <td>0</td>\n",
       "      <td>0</td>\n",
       "      <td>0</td>\n",
       "      <td>0</td>\n",
       "      <td>0</td>\n",
       "      <td>165</td>\n",
       "      <td>165</td>\n",
       "      <td>274</td>\n",
       "      <td>165</td>\n",
       "      <td>333</td>\n",
       "      <td>165</td>\n",
       "      <td>165</td>\n",
       "      <td>274</td>\n",
       "      <td>165</td>\n",
       "      <td>333</td>\n",
       "      <td>165</td>\n",
       "      <td>293</td>\n",
       "      <td>0</td>\n",
       "      <td>1</td>\n",
       "      <td>0</td>\n",
       "      <td>1</td>\n",
       "      <td>0</td>\n",
       "    </tr>\n",
       "    <tr>\n",
       "      <th>2</th>\n",
       "      <td>20000</td>\n",
       "      <td>0</td>\n",
       "      <td>39</td>\n",
       "      <td>3</td>\n",
       "      <td>1</td>\n",
       "      <td>1</td>\n",
       "      <td>1</td>\n",
       "      <td>1</td>\n",
       "      <td>1</td>\n",
       "      <td>20264</td>\n",
       "      <td>20328</td>\n",
       "      <td>19299</td>\n",
       "      <td>19928</td>\n",
       "      <td>20204</td>\n",
       "      <td>20398</td>\n",
       "      <td>1500</td>\n",
       "      <td>1500</td>\n",
       "      <td>900</td>\n",
       "      <td>700</td>\n",
       "      <td>1480</td>\n",
       "      <td>0</td>\n",
       "      <td>0</td>\n",
       "      <td>1</td>\n",
       "      <td>0</td>\n",
       "      <td>0</td>\n",
       "      <td>0</td>\n",
       "    </tr>\n",
       "    <tr>\n",
       "      <th>3</th>\n",
       "      <td>30000</td>\n",
       "      <td>0</td>\n",
       "      <td>23</td>\n",
       "      <td>3</td>\n",
       "      <td>3</td>\n",
       "      <td>3</td>\n",
       "      <td>3</td>\n",
       "      <td>3</td>\n",
       "      <td>3</td>\n",
       "      <td>28224</td>\n",
       "      <td>29276</td>\n",
       "      <td>28635</td>\n",
       "      <td>30127</td>\n",
       "      <td>30525</td>\n",
       "      <td>29793</td>\n",
       "      <td>1800</td>\n",
       "      <td>150</td>\n",
       "      <td>2250</td>\n",
       "      <td>1000</td>\n",
       "      <td>0</td>\n",
       "      <td>700</td>\n",
       "      <td>0</td>\n",
       "      <td>1</td>\n",
       "      <td>0</td>\n",
       "      <td>0</td>\n",
       "      <td>0</td>\n",
       "    </tr>\n",
       "    <tr>\n",
       "      <th>4</th>\n",
       "      <td>10000</td>\n",
       "      <td>0</td>\n",
       "      <td>29</td>\n",
       "      <td>1</td>\n",
       "      <td>1</td>\n",
       "      <td>1</td>\n",
       "      <td>1</td>\n",
       "      <td>1</td>\n",
       "      <td>1</td>\n",
       "      <td>8275</td>\n",
       "      <td>8409</td>\n",
       "      <td>8600</td>\n",
       "      <td>9470</td>\n",
       "      <td>6690</td>\n",
       "      <td>9690</td>\n",
       "      <td>2800</td>\n",
       "      <td>2000</td>\n",
       "      <td>1500</td>\n",
       "      <td>900</td>\n",
       "      <td>3000</td>\n",
       "      <td>0</td>\n",
       "      <td>0</td>\n",
       "      <td>1</td>\n",
       "      <td>0</td>\n",
       "      <td>0</td>\n",
       "      <td>0</td>\n",
       "    </tr>\n",
       "  </tbody>\n",
       "</table>\n",
       "</div>"
      ],
      "text/plain": [
       "   LIMIT_BAL  SEX  AGE  PAY_1  PAY_2  PAY_3  PAY_4  PAY_5  PAY_6  BILL_AMT1  \\\n",
       "0      20000    1   44      1      1      3      1      1     -1      17095   \n",
       "1     260000    1   30      0      0      0      0      0      0        165   \n",
       "2      20000    0   39      3      1      1      1      1      1      20264   \n",
       "3      30000    0   23      3      3      3      3      3      3      28224   \n",
       "4      10000    0   29      1      1      1      1      1      1       8275   \n",
       "\n",
       "   BILL_AMT2  BILL_AMT3  BILL_AMT4  BILL_AMT5  BILL_AMT6  PAY_AMT1  PAY_AMT2  \\\n",
       "0      19112      17980      18780          0          0      3000         0   \n",
       "1        165        274        165        333        165       165       274   \n",
       "2      20328      19299      19928      20204      20398      1500      1500   \n",
       "3      29276      28635      30127      30525      29793      1800       150   \n",
       "4       8409       8600       9470       6690       9690      2800      2000   \n",
       "\n",
       "   PAY_AMT3  PAY_AMT4  PAY_AMT5  PAY_AMT6  Education_higher  \\\n",
       "0      1000      1000         0         0                 0   \n",
       "1       165       333       165       293                 0   \n",
       "2       900       700      1480         0                 0   \n",
       "3      2250      1000         0       700                 0   \n",
       "4      1500       900      3000         0                 0   \n",
       "\n",
       "   Education_university  Education_highschool  Marriage_Single  Marriage_Other  \n",
       "0                     0                     1                0               0  \n",
       "1                     1                     0                1               0  \n",
       "2                     1                     0                0               0  \n",
       "3                     1                     0                0               0  \n",
       "4                     1                     0                0               0  "
      ]
     },
     "execution_count": 10,
     "metadata": {},
     "output_type": "execute_result"
    }
   ],
   "source": [
    "X_train_res.head()"
   ]
  },
  {
   "cell_type": "code",
   "execution_count": null,
   "id": "c3f1b523",
   "metadata": {},
   "outputs": [
    {
     "name": "stdout",
     "output_type": "stream",
     "text": [
      "Number transactions X_train dataset:  (37322, 26)\n",
      "Number transactions y_train dataset:  (37322,)\n",
      "Number transactions X_test dataset:  (6000, 26)\n",
      "Number transactions y_test dataset:  (6000,)\n"
     ]
    }
   ],
   "source": [
    "#After SMOTE\n",
    "\n",
    "print(\"Number transactions X_train dataset: \", X_train_res.shape)\n",
    "print(\"Number transactions y_train dataset: \", y_train_res.shape)\n",
    "print(\"Number transactions X_test dataset: \", X_test.shape)\n",
    "print(\"Number transactions y_test dataset: \", y_test.shape)"
   ]
  },
  {
   "cell_type": "markdown",
   "id": "0187aea8",
   "metadata": {},
   "source": [
    "# Models"
   ]
  },
  {
   "cell_type": "code",
   "execution_count": null,
   "id": "b5c11f35",
   "metadata": {},
   "outputs": [],
   "source": [
    "#initializing models\n",
    "\n",
    "lr=LogisticRegression()\n",
    "knc = KNeighborsClassifier() \n",
    "svc = SVC()\n",
    "xgb = XGBClassifier()\n",
    "\n",
    "#to store results\n",
    "models = ['Logistic Regression', \"KNN\", \"SVM\", \"XGBoost\"]\n",
    "recall = []\n",
    "accuracy = []\n",
    "precision = []\n",
    "f1 = []"
   ]
  },
  {
   "cell_type": "code",
   "execution_count": null,
   "id": "b06fc17c",
   "metadata": {},
   "outputs": [
    {
     "data": {
      "text/plain": [
       "{'C': 1.0,\n",
       " 'class_weight': None,\n",
       " 'dual': False,\n",
       " 'fit_intercept': True,\n",
       " 'intercept_scaling': 1,\n",
       " 'l1_ratio': None,\n",
       " 'max_iter': 100,\n",
       " 'multi_class': 'auto',\n",
       " 'n_jobs': None,\n",
       " 'penalty': 'l2',\n",
       " 'random_state': None,\n",
       " 'solver': 'lbfgs',\n",
       " 'tol': 0.0001,\n",
       " 'verbose': 0,\n",
       " 'warm_start': False}"
      ]
     },
     "execution_count": 13,
     "metadata": {},
     "output_type": "execute_result"
    }
   ],
   "source": [
    "lr.get_params()"
   ]
  },
  {
   "cell_type": "code",
   "execution_count": null,
   "id": "3c963c60",
   "metadata": {},
   "outputs": [
    {
     "data": {
      "text/plain": [
       "{'algorithm': 'auto',\n",
       " 'leaf_size': 30,\n",
       " 'metric': 'minkowski',\n",
       " 'metric_params': None,\n",
       " 'n_jobs': None,\n",
       " 'n_neighbors': 5,\n",
       " 'p': 2,\n",
       " 'weights': 'uniform'}"
      ]
     },
     "execution_count": 14,
     "metadata": {},
     "output_type": "execute_result"
    }
   ],
   "source": [
    "knc.get_params()"
   ]
  },
  {
   "cell_type": "code",
   "execution_count": null,
   "id": "36157315",
   "metadata": {},
   "outputs": [
    {
     "data": {
      "text/plain": [
       "{'C': 1.0,\n",
       " 'break_ties': False,\n",
       " 'cache_size': 200,\n",
       " 'class_weight': None,\n",
       " 'coef0': 0.0,\n",
       " 'decision_function_shape': 'ovr',\n",
       " 'degree': 3,\n",
       " 'gamma': 'scale',\n",
       " 'kernel': 'rbf',\n",
       " 'max_iter': -1,\n",
       " 'probability': False,\n",
       " 'random_state': None,\n",
       " 'shrinking': True,\n",
       " 'tol': 0.001,\n",
       " 'verbose': False}"
      ]
     },
     "execution_count": 15,
     "metadata": {},
     "output_type": "execute_result"
    }
   ],
   "source": [
    "svc.get_params()"
   ]
  },
  {
   "cell_type": "markdown",
   "id": "d6e04269",
   "metadata": {},
   "source": [
    "# Logistic Regression"
   ]
  },
  {
   "cell_type": "code",
   "execution_count": null,
   "id": "c003509c",
   "metadata": {},
   "outputs": [
    {
     "name": "stdout",
     "output_type": "stream",
     "text": [
      "              precision    recall  f1-score   support\n",
      "\n",
      "           0       0.83      0.70      0.76      4703\n",
      "           1       0.31      0.49      0.38      1297\n",
      "\n",
      "    accuracy                           0.65      6000\n",
      "   macro avg       0.57      0.59      0.57      6000\n",
      "weighted avg       0.72      0.65      0.68      6000\n",
      "\n"
     ]
    }
   ],
   "source": [
    "#logistic regression\n",
    "lr = lr.fit(X_train_res, y_train_res) \n",
    "y_pred = lr.predict(X_test)\n",
    "print(classification_report(y_test, y_pred))\n",
    "\n",
    "\n",
    "accuracy_lrc = round(accuracy_score(y_test,y_pred),3)\n",
    "recall_lr = round(recall_score(y_test,y_pred, average='weighted'),3)\n",
    "precision_lrc = round(precision_score(y_test,y_pred, average='weighted'),3)\n",
    "f1_score_lr = round(f1_score(y_test,y_pred, average='weighted'),3)\n",
    "\n",
    "\n",
    "#saving results in the list\n",
    "accuracy.append(accuracy_lrc)\n",
    "recall.append(recall_lr)\n",
    "precision.append(precision_lrc)\n",
    "f1.append(f1_score_lr)"
   ]
  },
  {
   "cell_type": "code",
   "execution_count": null,
   "id": "b63a4264",
   "metadata": {},
   "outputs": [
    {
     "data": {
      "image/png": "[encoded data removed]",
      "text/plain": [
       "<Figure size 432x288 with 1 Axes>"
      ]
     },
     "metadata": {
      "needs_background": "light"
     },
     "output_type": "display_data"
    }
   ],
   "source": [
    "#plotting ROC curve\n",
    "\n",
    "fpr, tpr, _ = roc_curve(y_test,  y_pred)\n",
    "auc = roc_auc_score(y_test, y_pred)\n",
    "\n",
    "#create ROC curve\n",
    "plt.plot(fpr,tpr,label=\"AUC=\"+str(auc))\n",
    "plt.ylabel('True Positive Rate')\n",
    "plt.xlabel('False Positive Rate')\n",
    "plt.legend(loc=4)\n",
    "plt.show()"
   ]
  },
  {
   "cell_type": "markdown",
   "id": "63afd0bc",
   "metadata": {},
   "source": [
    "# Log Transformation"
   ]
  },
  {
   "cell_type": "markdown",
   "id": "ccaf1f56",
   "metadata": {},
   "source": [
    "It is possible that some numerical variables could be skewed in nature. Log Transformation is one of the technique that can help in removing the skewness from data by making the data Normally Distributed.\n",
    "\n",
    "Numerical Variables: 'LIMIT_BAL','AGE','BILL_AMT1','BILL_AMT2','BILL_AMT3','BILL_AMT4','BILL_AMT5','BILL_AMT6' could be skewed in the nature."
   ]
  },
  {
   "cell_type": "code",
   "execution_count": null,
   "id": "2a89e0f7",
   "metadata": {},
   "outputs": [
    {
     "data": {
      "text/html": [
       "<div>\n",
       "<style scoped>\n",
       "    .dataframe tbody tr th:only-of-type {\n",
       "        vertical-align: middle;\n",
       "    }\n",
       "\n",
       "    .dataframe tbody tr th {\n",
       "        vertical-align: top;\n",
       "    }\n",
       "\n",
       "    .dataframe thead th {\n",
       "        text-align: right;\n",
       "    }\n",
       "</style>\n",
       "<table border=\"1\" class=\"dataframe\">\n",
       "  <thead>\n",
       "    <tr style=\"text-align: right;\">\n",
       "      <th></th>\n",
       "      <th>LIMIT_BAL</th>\n",
       "      <th>SEX</th>\n",
       "      <th>AGE</th>\n",
       "      <th>PAY_1</th>\n",
       "      <th>PAY_2</th>\n",
       "      <th>PAY_3</th>\n",
       "      <th>PAY_4</th>\n",
       "      <th>PAY_5</th>\n",
       "      <th>PAY_6</th>\n",
       "      <th>BILL_AMT1</th>\n",
       "      <th>BILL_AMT2</th>\n",
       "      <th>BILL_AMT3</th>\n",
       "      <th>BILL_AMT4</th>\n",
       "      <th>BILL_AMT5</th>\n",
       "      <th>BILL_AMT6</th>\n",
       "      <th>PAY_AMT1</th>\n",
       "      <th>PAY_AMT2</th>\n",
       "      <th>PAY_AMT3</th>\n",
       "      <th>PAY_AMT4</th>\n",
       "      <th>PAY_AMT5</th>\n",
       "      <th>PAY_AMT6</th>\n",
       "      <th>Education_higher</th>\n",
       "      <th>Education_university</th>\n",
       "      <th>Education_highschool</th>\n",
       "      <th>Marriage_Single</th>\n",
       "      <th>Marriage_Other</th>\n",
       "    </tr>\n",
       "  </thead>\n",
       "  <tbody>\n",
       "    <tr>\n",
       "      <th>0</th>\n",
       "      <td>20000</td>\n",
       "      <td>1</td>\n",
       "      <td>44</td>\n",
       "      <td>1</td>\n",
       "      <td>1</td>\n",
       "      <td>3</td>\n",
       "      <td>1</td>\n",
       "      <td>1</td>\n",
       "      <td>-1</td>\n",
       "      <td>17095</td>\n",
       "      <td>19112</td>\n",
       "      <td>17980</td>\n",
       "      <td>18780</td>\n",
       "      <td>0</td>\n",
       "      <td>0</td>\n",
       "      <td>3000</td>\n",
       "      <td>0</td>\n",
       "      <td>1000</td>\n",
       "      <td>1000</td>\n",
       "      <td>0</td>\n",
       "      <td>0</td>\n",
       "      <td>0</td>\n",
       "      <td>0</td>\n",
       "      <td>1</td>\n",
       "      <td>0</td>\n",
       "      <td>0</td>\n",
       "    </tr>\n",
       "    <tr>\n",
       "      <th>1</th>\n",
       "      <td>260000</td>\n",
       "      <td>1</td>\n",
       "      <td>30</td>\n",
       "      <td>0</td>\n",
       "      <td>0</td>\n",
       "      <td>0</td>\n",
       "      <td>0</td>\n",
       "      <td>0</td>\n",
       "      <td>0</td>\n",
       "      <td>165</td>\n",
       "      <td>165</td>\n",
       "      <td>274</td>\n",
       "      <td>165</td>\n",
       "      <td>333</td>\n",
       "      <td>165</td>\n",
       "      <td>165</td>\n",
       "      <td>274</td>\n",
       "      <td>165</td>\n",
       "      <td>333</td>\n",
       "      <td>165</td>\n",
       "      <td>293</td>\n",
       "      <td>0</td>\n",
       "      <td>1</td>\n",
       "      <td>0</td>\n",
       "      <td>1</td>\n",
       "      <td>0</td>\n",
       "    </tr>\n",
       "    <tr>\n",
       "      <th>2</th>\n",
       "      <td>20000</td>\n",
       "      <td>0</td>\n",
       "      <td>39</td>\n",
       "      <td>3</td>\n",
       "      <td>1</td>\n",
       "      <td>1</td>\n",
       "      <td>1</td>\n",
       "      <td>1</td>\n",
       "      <td>1</td>\n",
       "      <td>20264</td>\n",
       "      <td>20328</td>\n",
       "      <td>19299</td>\n",
       "      <td>19928</td>\n",
       "      <td>20204</td>\n",
       "      <td>20398</td>\n",
       "      <td>1500</td>\n",
       "      <td>1500</td>\n",
       "      <td>900</td>\n",
       "      <td>700</td>\n",
       "      <td>1480</td>\n",
       "      <td>0</td>\n",
       "      <td>0</td>\n",
       "      <td>1</td>\n",
       "      <td>0</td>\n",
       "      <td>0</td>\n",
       "      <td>0</td>\n",
       "    </tr>\n",
       "    <tr>\n",
       "      <th>3</th>\n",
       "      <td>30000</td>\n",
       "      <td>0</td>\n",
       "      <td>23</td>\n",
       "      <td>3</td>\n",
       "      <td>3</td>\n",
       "      <td>3</td>\n",
       "      <td>3</td>\n",
       "      <td>3</td>\n",
       "      <td>3</td>\n",
       "      <td>28224</td>\n",
       "      <td>29276</td>\n",
       "      <td>28635</td>\n",
       "      <td>30127</td>\n",
       "      <td>30525</td>\n",
       "      <td>29793</td>\n",
       "      <td>1800</td>\n",
       "      <td>150</td>\n",
       "      <td>2250</td>\n",
       "      <td>1000</td>\n",
       "      <td>0</td>\n",
       "      <td>700</td>\n",
       "      <td>0</td>\n",
       "      <td>1</td>\n",
       "      <td>0</td>\n",
       "      <td>0</td>\n",
       "      <td>0</td>\n",
       "    </tr>\n",
       "    <tr>\n",
       "      <th>4</th>\n",
       "      <td>10000</td>\n",
       "      <td>0</td>\n",
       "      <td>29</td>\n",
       "      <td>1</td>\n",
       "      <td>1</td>\n",
       "      <td>1</td>\n",
       "      <td>1</td>\n",
       "      <td>1</td>\n",
       "      <td>1</td>\n",
       "      <td>8275</td>\n",
       "      <td>8409</td>\n",
       "      <td>8600</td>\n",
       "      <td>9470</td>\n",
       "      <td>6690</td>\n",
       "      <td>9690</td>\n",
       "      <td>2800</td>\n",
       "      <td>2000</td>\n",
       "      <td>1500</td>\n",
       "      <td>900</td>\n",
       "      <td>3000</td>\n",
       "      <td>0</td>\n",
       "      <td>0</td>\n",
       "      <td>1</td>\n",
       "      <td>0</td>\n",
       "      <td>0</td>\n",
       "      <td>0</td>\n",
       "    </tr>\n",
       "  </tbody>\n",
       "</table>\n",
       "</div>"
      ],
      "text/plain": [
       "   LIMIT_BAL  SEX  AGE  PAY_1  PAY_2  PAY_3  PAY_4  PAY_5  PAY_6  BILL_AMT1  \\\n",
       "0      20000    1   44      1      1      3      1      1     -1      17095   \n",
       "1     260000    1   30      0      0      0      0      0      0        165   \n",
       "2      20000    0   39      3      1      1      1      1      1      20264   \n",
       "3      30000    0   23      3      3      3      3      3      3      28224   \n",
       "4      10000    0   29      1      1      1      1      1      1       8275   \n",
       "\n",
       "   BILL_AMT2  BILL_AMT3  BILL_AMT4  BILL_AMT5  BILL_AMT6  PAY_AMT1  PAY_AMT2  \\\n",
       "0      19112      17980      18780          0          0      3000         0   \n",
       "1        165        274        165        333        165       165       274   \n",
       "2      20328      19299      19928      20204      20398      1500      1500   \n",
       "3      29276      28635      30127      30525      29793      1800       150   \n",
       "4       8409       8600       9470       6690       9690      2800      2000   \n",
       "\n",
       "   PAY_AMT3  PAY_AMT4  PAY_AMT5  PAY_AMT6  Education_higher  \\\n",
       "0      1000      1000         0         0                 0   \n",
       "1       165       333       165       293                 0   \n",
       "2       900       700      1480         0                 0   \n",
       "3      2250      1000         0       700                 0   \n",
       "4      1500       900      3000         0                 0   \n",
       "\n",
       "   Education_university  Education_highschool  Marriage_Single  Marriage_Other  \n",
       "0                     0                     1                0               0  \n",
       "1                     1                     0                1               0  \n",
       "2                     1                     0                0               0  \n",
       "3                     1                     0                0               0  \n",
       "4                     1                     0                0               0  "
      ]
     },
     "execution_count": 19,
     "metadata": {},
     "output_type": "execute_result"
    }
   ],
   "source": [
    "X_train_log = X_train_res.copy()\n",
    "X_train_log.head()"
   ]
  },
  {
   "cell_type": "code",
   "execution_count": null,
   "id": "85a8623c",
   "metadata": {
    "scrolled": true
   },
   "outputs": [
    {
     "data": {
      "text/plain": [
       "<AxesSubplot:xlabel='PAY_AMT6', ylabel='Density'>"
      ]
     },
     "execution_count": 20,
     "metadata": {},
     "output_type": "execute_result"
    },
    {
     "data": {
      "image/png": "[encoded data removed]",
      "text/plain": [
       "<Figure size 2160x3600 with 14 Axes>"
      ]
     },
     "metadata": {
      "needs_background": "light"
     },
     "output_type": "display_data"
    }
   ],
   "source": [
    "fig, axes = plt.subplots(7, 2, figsize=(30,50))\n",
    "sns.distplot(X_train_log['LIMIT_BAL'],ax=axes[0,0])\n",
    "sns.distplot(X_train_log['AGE'],ax=axes[0,1])\n",
    "sns.distplot(X_train_log['BILL_AMT1'],ax=axes[1,0])\n",
    "sns.distplot(X_train_log['BILL_AMT2'],ax=axes[1,1])\n",
    "sns.distplot(X_train_log['BILL_AMT3'],ax=axes[2,0])\n",
    "sns.distplot(X_train_log['BILL_AMT4'],ax=axes[2,1])\n",
    "sns.distplot(X_train_log['BILL_AMT5'],ax=axes[3,0])\n",
    "sns.distplot(X_train_log['BILL_AMT6'],ax=axes[3,1])\n",
    "sns.distplot(X_train_log['PAY_AMT1'],ax=axes[4,0])\n",
    "sns.distplot(X_train_log['PAY_AMT2'],ax=axes[4,1])\n",
    "sns.distplot(X_train_log['PAY_AMT3'],ax=axes[5,0])\n",
    "sns.distplot(X_train_log['PAY_AMT4'],ax=axes[5,1])\n",
    "sns.distplot(X_train_log['PAY_AMT5'],ax=axes[6,0])\n",
    "sns.distplot(X_train_log['PAY_AMT6'],ax=axes[6,1])"
   ]
  },
  {
   "cell_type": "markdown",
   "id": "0c849435",
   "metadata": {},
   "source": [
    "There is not much skewness in Pay columns so as of now will be focussin on ['LIMIT_BAL','AGE','BILL_AMT1','BILL_AMT2','BILL_AMT3','BILL_AMT4','BILL_AMT5','BILL_AMT6''PAY_AMT1','PAY_AMT2', 'PAY_AMT3','PAY_AMT4','PAY_AMT5','PAY_AMT6'] columns only.\n",
    "\n",
    "Log Transformation of negative values and 0 is undefined so first will be converting all negative values to positive by adding a same constant in all the values."
   ]
  },
  {
   "cell_type": "code",
   "execution_count": null,
   "id": "d0b8a7f4",
   "metadata": {},
   "outputs": [],
   "source": [
    "constant = 400000\n",
    "col = ['LIMIT_BAL','AGE','BILL_AMT1','BILL_AMT2','BILL_AMT3','BILL_AMT4','BILL_AMT5','BILL_AMT6','PAY_AMT1','PAY_AMT2',\n",
    "      'PAY_AMT3','PAY_AMT4','PAY_AMT5','PAY_AMT6']\n",
    "\n",
    "for columns in col:\n",
    "    X_train_log[columns] = X_train_log[columns]+constant\n",
    "    X_train_log[columns] = np.log10(X_train_log[columns])"
   ]
  },
  {
   "cell_type": "code",
   "execution_count": null,
   "id": "ffc3afc2",
   "metadata": {},
   "outputs": [
    {
     "data": {
      "text/html": [
       "<div>\n",
       "<style scoped>\n",
       "    .dataframe tbody tr th:only-of-type {\n",
       "        vertical-align: middle;\n",
       "    }\n",
       "\n",
       "    .dataframe tbody tr th {\n",
       "        vertical-align: top;\n",
       "    }\n",
       "\n",
       "    .dataframe thead th {\n",
       "        text-align: right;\n",
       "    }\n",
       "</style>\n",
       "<table border=\"1\" class=\"dataframe\">\n",
       "  <thead>\n",
       "    <tr style=\"text-align: right;\">\n",
       "      <th></th>\n",
       "      <th>LIMIT_BAL</th>\n",
       "      <th>SEX</th>\n",
       "      <th>AGE</th>\n",
       "      <th>PAY_1</th>\n",
       "      <th>PAY_2</th>\n",
       "      <th>PAY_3</th>\n",
       "      <th>PAY_4</th>\n",
       "      <th>PAY_5</th>\n",
       "      <th>PAY_6</th>\n",
       "      <th>BILL_AMT1</th>\n",
       "      <th>BILL_AMT2</th>\n",
       "      <th>BILL_AMT3</th>\n",
       "      <th>BILL_AMT4</th>\n",
       "      <th>BILL_AMT5</th>\n",
       "      <th>BILL_AMT6</th>\n",
       "      <th>PAY_AMT1</th>\n",
       "      <th>PAY_AMT2</th>\n",
       "      <th>PAY_AMT3</th>\n",
       "      <th>PAY_AMT4</th>\n",
       "      <th>PAY_AMT5</th>\n",
       "      <th>PAY_AMT6</th>\n",
       "      <th>Education_higher</th>\n",
       "      <th>Education_university</th>\n",
       "      <th>Education_highschool</th>\n",
       "      <th>Marriage_Single</th>\n",
       "      <th>Marriage_Other</th>\n",
       "    </tr>\n",
       "  </thead>\n",
       "  <tbody>\n",
       "    <tr>\n",
       "      <th>0</th>\n",
       "      <td>5.623249</td>\n",
       "      <td>1</td>\n",
       "      <td>5.602108</td>\n",
       "      <td>1</td>\n",
       "      <td>1</td>\n",
       "      <td>3</td>\n",
       "      <td>1</td>\n",
       "      <td>1</td>\n",
       "      <td>-1</td>\n",
       "      <td>5.620235</td>\n",
       "      <td>5.622330</td>\n",
       "      <td>5.621156</td>\n",
       "      <td>5.621986</td>\n",
       "      <td>5.602060</td>\n",
       "      <td>5.602060</td>\n",
       "      <td>5.605305</td>\n",
       "      <td>5.602060</td>\n",
       "      <td>5.603144</td>\n",
       "      <td>5.603144</td>\n",
       "      <td>5.602060</td>\n",
       "      <td>5.602060</td>\n",
       "      <td>0</td>\n",
       "      <td>0</td>\n",
       "      <td>1</td>\n",
       "      <td>0</td>\n",
       "      <td>0</td>\n",
       "    </tr>\n",
       "    <tr>\n",
       "      <th>1</th>\n",
       "      <td>5.819544</td>\n",
       "      <td>1</td>\n",
       "      <td>5.602093</td>\n",
       "      <td>0</td>\n",
       "      <td>0</td>\n",
       "      <td>0</td>\n",
       "      <td>0</td>\n",
       "      <td>0</td>\n",
       "      <td>0</td>\n",
       "      <td>5.602239</td>\n",
       "      <td>5.602239</td>\n",
       "      <td>5.602357</td>\n",
       "      <td>5.602239</td>\n",
       "      <td>5.602421</td>\n",
       "      <td>5.602239</td>\n",
       "      <td>5.602239</td>\n",
       "      <td>5.602357</td>\n",
       "      <td>5.602239</td>\n",
       "      <td>5.602421</td>\n",
       "      <td>5.602239</td>\n",
       "      <td>5.602378</td>\n",
       "      <td>0</td>\n",
       "      <td>1</td>\n",
       "      <td>0</td>\n",
       "      <td>1</td>\n",
       "      <td>0</td>\n",
       "    </tr>\n",
       "    <tr>\n",
       "      <th>2</th>\n",
       "      <td>5.623249</td>\n",
       "      <td>0</td>\n",
       "      <td>5.602102</td>\n",
       "      <td>3</td>\n",
       "      <td>1</td>\n",
       "      <td>1</td>\n",
       "      <td>1</td>\n",
       "      <td>1</td>\n",
       "      <td>1</td>\n",
       "      <td>5.623522</td>\n",
       "      <td>5.623588</td>\n",
       "      <td>5.622524</td>\n",
       "      <td>5.623175</td>\n",
       "      <td>5.623460</td>\n",
       "      <td>5.623661</td>\n",
       "      <td>5.603686</td>\n",
       "      <td>5.603686</td>\n",
       "      <td>5.603036</td>\n",
       "      <td>5.602819</td>\n",
       "      <td>5.603664</td>\n",
       "      <td>5.602060</td>\n",
       "      <td>0</td>\n",
       "      <td>1</td>\n",
       "      <td>0</td>\n",
       "      <td>0</td>\n",
       "      <td>0</td>\n",
       "    </tr>\n",
       "    <tr>\n",
       "      <th>3</th>\n",
       "      <td>5.633468</td>\n",
       "      <td>0</td>\n",
       "      <td>5.602085</td>\n",
       "      <td>3</td>\n",
       "      <td>3</td>\n",
       "      <td>3</td>\n",
       "      <td>3</td>\n",
       "      <td>3</td>\n",
       "      <td>3</td>\n",
       "      <td>5.631671</td>\n",
       "      <td>5.632737</td>\n",
       "      <td>5.632088</td>\n",
       "      <td>5.633597</td>\n",
       "      <td>5.633998</td>\n",
       "      <td>5.633259</td>\n",
       "      <td>5.604010</td>\n",
       "      <td>5.602223</td>\n",
       "      <td>5.604496</td>\n",
       "      <td>5.603144</td>\n",
       "      <td>5.602060</td>\n",
       "      <td>5.602819</td>\n",
       "      <td>0</td>\n",
       "      <td>1</td>\n",
       "      <td>0</td>\n",
       "      <td>0</td>\n",
       "      <td>0</td>\n",
       "    </tr>\n",
       "    <tr>\n",
       "      <th>4</th>\n",
       "      <td>5.612784</td>\n",
       "      <td>0</td>\n",
       "      <td>5.602091</td>\n",
       "      <td>1</td>\n",
       "      <td>1</td>\n",
       "      <td>1</td>\n",
       "      <td>1</td>\n",
       "      <td>1</td>\n",
       "      <td>1</td>\n",
       "      <td>5.610953</td>\n",
       "      <td>5.611095</td>\n",
       "      <td>5.611298</td>\n",
       "      <td>5.612222</td>\n",
       "      <td>5.609263</td>\n",
       "      <td>5.612455</td>\n",
       "      <td>5.605089</td>\n",
       "      <td>5.604226</td>\n",
       "      <td>5.603686</td>\n",
       "      <td>5.603036</td>\n",
       "      <td>5.605305</td>\n",
       "      <td>5.602060</td>\n",
       "      <td>0</td>\n",
       "      <td>1</td>\n",
       "      <td>0</td>\n",
       "      <td>0</td>\n",
       "      <td>0</td>\n",
       "    </tr>\n",
       "  </tbody>\n",
       "</table>\n",
       "</div>"
      ],
      "text/plain": [
       "   LIMIT_BAL  SEX       AGE  PAY_1  PAY_2  PAY_3  PAY_4  PAY_5  PAY_6  \\\n",
       "0   5.623249    1  5.602108      1      1      3      1      1     -1   \n",
       "1   5.819544    1  5.602093      0      0      0      0      0      0   \n",
       "2   5.623249    0  5.602102      3      1      1      1      1      1   \n",
       "3   5.633468    0  5.602085      3      3      3      3      3      3   \n",
       "4   5.612784    0  5.602091      1      1      1      1      1      1   \n",
       "\n",
       "   BILL_AMT1  BILL_AMT2  BILL_AMT3  BILL_AMT4  BILL_AMT5  BILL_AMT6  PAY_AMT1  \\\n",
       "0   5.620235   5.622330   5.621156   5.621986   5.602060   5.602060  5.605305   \n",
       "1   5.602239   5.602239   5.602357   5.602239   5.602421   5.602239  5.602239   \n",
       "2   5.623522   5.623588   5.622524   5.623175   5.623460   5.623661  5.603686   \n",
       "3   5.631671   5.632737   5.632088   5.633597   5.633998   5.633259  5.604010   \n",
       "4   5.610953   5.611095   5.611298   5.612222   5.609263   5.612455  5.605089   \n",
       "\n",
       "   PAY_AMT2  PAY_AMT3  PAY_AMT4  PAY_AMT5  PAY_AMT6  Education_higher  \\\n",
       "0  5.602060  5.603144  5.603144  5.602060  5.602060                 0   \n",
       "1  5.602357  5.602239  5.602421  5.602239  5.602378                 0   \n",
       "2  5.603686  5.603036  5.602819  5.603664  5.602060                 0   \n",
       "3  5.602223  5.604496  5.603144  5.602060  5.602819                 0   \n",
       "4  5.604226  5.603686  5.603036  5.605305  5.602060                 0   \n",
       "\n",
       "   Education_university  Education_highschool  Marriage_Single  Marriage_Other  \n",
       "0                     0                     1                0               0  \n",
       "1                     1                     0                1               0  \n",
       "2                     1                     0                0               0  \n",
       "3                     1                     0                0               0  \n",
       "4                     1                     0                0               0  "
      ]
     },
     "execution_count": 22,
     "metadata": {},
     "output_type": "execute_result"
    }
   ],
   "source": [
    "X_train_log.head()"
   ]
  },
  {
   "cell_type": "code",
   "execution_count": null,
   "id": "c94417a2",
   "metadata": {},
   "outputs": [
    {
     "name": "stdout",
     "output_type": "stream",
     "text": [
      "              precision    recall  f1-score   support\n",
      "\n",
      "           0       0.78      1.00      0.88      4703\n",
      "           1       0.25      0.00      0.00      1297\n",
      "\n",
      "    accuracy                           0.78      6000\n",
      "   macro avg       0.52      0.50      0.44      6000\n",
      "weighted avg       0.67      0.78      0.69      6000\n",
      "\n"
     ]
    }
   ],
   "source": [
    "#logistic regression after log transformation\n",
    "\n",
    "lr = lr.fit(X_train_log, y_train_res) \n",
    "y_pred = lr.predict(X_test)\n",
    "print(classification_report(y_test, y_pred))"
   ]
  },
  {
   "cell_type": "markdown",
   "id": "ad226b14",
   "metadata": {},
   "source": [
    "Transforming into log is giving recall value for label 1 as 0.00, which means it is predicting all the classes as 0. It is performing poorly so will be avoiding log transformation in further steps."
   ]
  },
  {
   "cell_type": "markdown",
   "id": "ee7ea4d8",
   "metadata": {},
   "source": [
    "# KNN"
   ]
  },
  {
   "cell_type": "code",
   "execution_count": null,
   "id": "540247d1",
   "metadata": {},
   "outputs": [
    {
     "name": "stdout",
     "output_type": "stream",
     "text": [
      "              precision    recall  f1-score   support\n",
      "\n",
      "           0       0.83      0.62      0.71      4703\n",
      "           1       0.28      0.54      0.37      1297\n",
      "\n",
      "    accuracy                           0.60      6000\n",
      "   macro avg       0.56      0.58      0.54      6000\n",
      "weighted avg       0.71      0.60      0.64      6000\n",
      "\n"
     ]
    }
   ],
   "source": [
    "#KNN\n",
    "knc = knc.fit(X_train_res, y_train_res) \n",
    "y_pred = knc.predict(X_test)\n",
    "print(classification_report(y_test, y_pred))\n",
    "\n",
    "accuracy_knc = round(accuracy_score(y_test,y_pred),3)\n",
    "recall_knc = round(recall_score(y_test,y_pred, average='weighted'),3)\n",
    "precision_knc = round(precision_score(y_test,y_pred, average='weighted'),3)\n",
    "f1_score_knc = round(f1_score(y_test,y_pred, average='weighted'),3)\n",
    "\n",
    "\n",
    "#saving results in the list\n",
    "accuracy.append(accuracy_knc)\n",
    "recall.append(recall_knc)\n",
    "precision.append(precision_knc)\n",
    "f1.append(f1_score_knc)"
   ]
  },
  {
   "cell_type": "code",
   "execution_count": null,
   "id": "99c61c90",
   "metadata": {},
   "outputs": [
    {
     "data": {
      "image/png": "[encoded data removed]",
      "text/plain": [
       "<Figure size 432x288 with 1 Axes>"
      ]
     },
     "metadata": {
      "needs_background": "light"
     },
     "output_type": "display_data"
    }
   ],
   "source": [
    "fpr, tpr, _ = roc_curve(y_test,  y_pred)\n",
    "auc = roc_auc_score(y_test, y_pred)\n",
    "\n",
    "#create ROC curve\n",
    "plt.plot(fpr,tpr,label=\"AUC=\"+str(auc))\n",
    "plt.ylabel('True Positive Rate')\n",
    "plt.xlabel('False Positive Rate')\n",
    "plt.legend(loc=4)\n",
    "plt.show()"
   ]
  },
  {
   "cell_type": "markdown",
   "id": "f62f54af",
   "metadata": {},
   "source": [
    "# SVM"
   ]
  },
  {
   "cell_type": "code",
   "execution_count": null,
   "id": "d7b07bdf",
   "metadata": {},
   "outputs": [
    {
     "name": "stdout",
     "output_type": "stream",
     "text": [
      "              precision    recall  f1-score   support\n",
      "\n",
      "           0       0.87      0.54      0.66      4703\n",
      "           1       0.29      0.70      0.41      1297\n",
      "\n",
      "    accuracy                           0.57      6000\n",
      "   macro avg       0.58      0.62      0.54      6000\n",
      "weighted avg       0.74      0.57      0.61      6000\n",
      "\n"
     ]
    }
   ],
   "source": [
    "svc = svc.fit(X_train_res, y_train_res) \n",
    "y_pred = svc.predict(X_test)\n",
    "print(classification_report(y_test, y_pred))\n",
    "\n",
    "accuracy_svc = round(accuracy_score(y_test,y_pred),3)\n",
    "recall_svc = round(recall_score(y_test,y_pred, average='weighted'),3)\n",
    "precision_svc = round(precision_score(y_test,y_pred, average='weighted'),3)\n",
    "f1_score_svc = round(f1_score(y_test,y_pred, average='weighted'),3)\n",
    "\n",
    "\n",
    "#saving results in the list\n",
    "accuracy.append(accuracy_svc)\n",
    "recall.append(recall_svc)\n",
    "precision.append(precision_svc)\n",
    "f1.append(f1_score_svc)"
   ]
  },
  {
   "cell_type": "code",
   "execution_count": null,
   "id": "99747e9a",
   "metadata": {},
   "outputs": [
    {
     "data": {
      "image/png": "[encoded data removed]",
      "text/plain": [
       "<Figure size 432x288 with 1 Axes>"
      ]
     },
     "metadata": {
      "needs_background": "light"
     },
     "output_type": "display_data"
    }
   ],
   "source": [
    "fpr, tpr, _ = roc_curve(y_test,  y_pred)\n",
    "auc = roc_auc_score(y_test, y_pred)\n",
    "\n",
    "#create ROC curve\n",
    "plt.plot(fpr,tpr,label=\"AUC=\"+str(auc))\n",
    "plt.ylabel('True Positive Rate')\n",
    "plt.xlabel('False Positive Rate')\n",
    "plt.legend(loc=4)\n",
    "plt.show()"
   ]
  },
  {
   "cell_type": "markdown",
   "id": "3d1cb2ab",
   "metadata": {},
   "source": [
    "# XGBoost"
   ]
  },
  {
   "cell_type": "code",
   "execution_count": 3,
   "id": "be747311",
   "metadata": {},
   "outputs": [
    {
     "ename": "NameError",
     "evalue": "name 'xgb' is not defined",
     "output_type": "error",
     "traceback": [
      "\u001b[1;31m---------------------------------------------------------------------------\u001b[0m",
      "\u001b[1;31mNameError\u001b[0m                                 Traceback (most recent call last)",
      "\u001b[1;32mc:\\Users\\Robin\\Downloads\\capstone_project\\_notebooks\\Credit_Card_Default_modelling.ipynb Cell 32\u001b[0m in \u001b[0;36m<cell line: 1>\u001b[1;34m()\u001b[0m\n\u001b[1;32m----> <a href='vscode-notebook-cell:/c%3A/Users/Robin/Downloads/capstone_project/_notebooks/Credit_Card_Default_modelling.ipynb#X43sZmlsZQ%3D%3D?line=0'>1</a>\u001b[0m xgb \u001b[39m=\u001b[39m xgb\u001b[39m.\u001b[39mfit(X_train_res, y_train_res) \n\u001b[0;32m      <a href='vscode-notebook-cell:/c%3A/Users/Robin/Downloads/capstone_project/_notebooks/Credit_Card_Default_modelling.ipynb#X43sZmlsZQ%3D%3D?line=1'>2</a>\u001b[0m y_pred \u001b[39m=\u001b[39m xgb\u001b[39m.\u001b[39mpredict(X_test)\n\u001b[0;32m      <a href='vscode-notebook-cell:/c%3A/Users/Robin/Downloads/capstone_project/_notebooks/Credit_Card_Default_modelling.ipynb#X43sZmlsZQ%3D%3D?line=2'>3</a>\u001b[0m \u001b[39mprint\u001b[39m(classification_report(y_test, y_pred))\n",
      "\u001b[1;31mNameError\u001b[0m: name 'xgb' is not defined"
     ]
    }
   ],
   "source": [
    "xgb = xgb.fit(X_train_res, y_train_res) \n",
    "y_pred = xgb.predict(X_test)\n",
    "print(classification_report(y_test, y_pred))\n",
    "\n",
    "accuracy_xgb = round(accuracy_score(y_test,y_pred),3)\n",
    "recall_xgb = round(recall_score(y_test,y_pred, average='weighted'),3)\n",
    "precision_xgb = round(precision_score(y_test,y_pred, average='weighted'),3)\n",
    "f1_score_xgb = round(f1_score(y_test,y_pred, average='weighted'),3)\n",
    "\n",
    "#saving results in the list\n",
    "accuracy.append(accuracy_xgb)\n",
    "recall.append(recall_xgb)\n",
    "precision.append(precision_xgb)\n",
    "f1.append(f1_score_xgb)"
   ]
  },
  {
   "cell_type": "code",
   "execution_count": null,
   "id": "5dbf5c60",
   "metadata": {},
   "outputs": [
    {
     "data": {
      "image/png": "[encoded data removed]",
      "text/plain": [
       "<Figure size 432x288 with 1 Axes>"
      ]
     },
     "metadata": {
      "needs_background": "light"
     },
     "output_type": "display_data"
    }
   ],
   "source": [
    "fpr, tpr, _ = roc_curve(y_test,  y_pred)\n",
    "auc = roc_auc_score(y_test, y_pred)\n",
    "\n",
    "#create ROC curve\n",
    "plt.plot(fpr,tpr,label=\"AUC=\"+str(auc))\n",
    "plt.ylabel('True Positive Rate')\n",
    "plt.xlabel('False Positive Rate')\n",
    "plt.legend(loc=4)\n",
    "plt.show()"
   ]
  },
  {
   "cell_type": "code",
   "execution_count": null,
   "id": "9261cfe4",
   "metadata": {},
   "outputs": [
    {
     "data": {
      "text/html": [
       "<div>\n",
       "<style scoped>\n",
       "    .dataframe tbody tr th:only-of-type {\n",
       "        vertical-align: middle;\n",
       "    }\n",
       "\n",
       "    .dataframe tbody tr th {\n",
       "        vertical-align: top;\n",
       "    }\n",
       "\n",
       "    .dataframe thead th {\n",
       "        text-align: right;\n",
       "    }\n",
       "</style>\n",
       "<table border=\"1\" class=\"dataframe\">\n",
       "  <thead>\n",
       "    <tr style=\"text-align: right;\">\n",
       "      <th></th>\n",
       "      <th>Models</th>\n",
       "      <th>Accuracy</th>\n",
       "      <th>Recall</th>\n",
       "      <th>Precision</th>\n",
       "      <th>f1-score</th>\n",
       "    </tr>\n",
       "  </thead>\n",
       "  <tbody>\n",
       "    <tr>\n",
       "      <th>0</th>\n",
       "      <td>Logistic Regression</td>\n",
       "      <td>0.651</td>\n",
       "      <td>0.651</td>\n",
       "      <td>0.718</td>\n",
       "      <td>0.675</td>\n",
       "    </tr>\n",
       "    <tr>\n",
       "      <th>1</th>\n",
       "      <td>KNN</td>\n",
       "      <td>0.605</td>\n",
       "      <td>0.605</td>\n",
       "      <td>0.711</td>\n",
       "      <td>0.638</td>\n",
       "    </tr>\n",
       "    <tr>\n",
       "      <th>2</th>\n",
       "      <td>SVM</td>\n",
       "      <td>0.571</td>\n",
       "      <td>0.571</td>\n",
       "      <td>0.743</td>\n",
       "      <td>0.608</td>\n",
       "    </tr>\n",
       "    <tr>\n",
       "      <th>3</th>\n",
       "      <td>XGBoost</td>\n",
       "      <td>0.777</td>\n",
       "      <td>0.777</td>\n",
       "      <td>0.768</td>\n",
       "      <td>0.772</td>\n",
       "    </tr>\n",
       "  </tbody>\n",
       "</table>\n",
       "</div>"
      ],
      "text/plain": [
       "                Models  Accuracy  Recall  Precision  f1-score\n",
       "0  Logistic Regression     0.651   0.651      0.718     0.675\n",
       "1                  KNN     0.605   0.605      0.711     0.638\n",
       "2                  SVM     0.571   0.571      0.743     0.608\n",
       "3              XGBoost     0.777   0.777      0.768     0.772"
      ]
     },
     "execution_count": 30,
     "metadata": {},
     "output_type": "execute_result"
    }
   ],
   "source": [
    "dataframe = pd.DataFrame(list(zip(models, accuracy, recall, precision, f1)), columns = ['Models','Accuracy','Recall', 'Precision','f1-score'])\n",
    "dataframe.head()"
   ]
  },
  {
   "cell_type": "markdown",
   "id": "4efe1b04",
   "metadata": {},
   "source": [
    "# GridSearchCV"
   ]
  },
  {
   "cell_type": "code",
   "execution_count": null,
   "id": "a0c3f607",
   "metadata": {},
   "outputs": [],
   "source": [
    "#defining parameters for models\n",
    "\n",
    "logistic_parameters = {'solver':('sag', 'saga','newton-cg','liblinear','lbfgs'),\"penalty\":(\"l1\",\"l2\",\"None\")}\n",
    "knn_parameters = {'n_neighbors':(range(5,10)), \"algorithm\":(\"auto\",\"kd_tree\")}\n",
    "svm_parameters = {\"gamma\":(1, 0.1, 0.01),\"kernel\":(\"linear\",\"rbf\")}\n",
    "xgboost_parameters = {\"n_estimators\": (45, 50, 55)}"
   ]
  },
  {
   "cell_type": "code",
   "execution_count": null,
   "id": "b1781cac",
   "metadata": {},
   "outputs": [],
   "source": [
    "parameter_dictionary = {}\n",
    "\n",
    "#function to find best parameters for each model using GridSearchCV\n",
    "\n",
    "def optimize_params(model, parameter_list):\n",
    "    \n",
    "    #taking only a sub-sample of training data so to reduce the timing. \n",
    "    X_sub = X_train_res[0:10000]\n",
    "    y_sub = y_train_res[0:10000]\n",
    "    \n",
    "    grid = GridSearchCV(model, parameter_list, cv=3)\n",
    "    grid.fit(X_sub, y_sub)\n",
    "    parameter_dictionary[model] = grid.best_params_"
   ]
  },
  {
   "cell_type": "code",
   "execution_count": null,
   "id": "e66884d3",
   "metadata": {},
   "outputs": [],
   "source": [
    "#call the function optimize_params to get best parameters for the model by using GridSearchCV. Note: SVM and XGB can take a lot of time even after giving just one parameter. In the below models, I have used the best paarmeter to train the model. \n",
    "\n",
    "# optimize_params(lr, logistic_parameters)\n",
    "# optimize_params(knc, knn_parameters)\n",
    "# optimize_params(svc, svm_parameters)\n",
    "# optimize_params(xgb, xgboost_parameters)"
   ]
  },
  {
   "cell_type": "code",
   "execution_count": null,
   "id": "24cea00b",
   "metadata": {},
   "outputs": [],
   "source": [
    "#parameter_dictionary"
   ]
  },
  {
   "cell_type": "code",
   "execution_count": null,
   "id": "200585e4",
   "metadata": {},
   "outputs": [],
   "source": [
    "#defining models with best parameters\n",
    "\n",
    "lr=LogisticRegression(solver='liblinear', penalty='l1')\n",
    "knc = KNeighborsClassifier(n_neighbors = 6, algorithm='kd_tree') \n",
    "svc = SVC(kernel=\"rbf\", gamma=1)\n",
    "xgb = XGBClassifier(n_estimators = 50)"
   ]
  },
  {
   "cell_type": "code",
   "execution_count": null,
   "id": "b5e8e74d",
   "metadata": {},
   "outputs": [],
   "source": [
    "#to store results\n",
    "\n",
    "recall_best_params = []\n",
    "accuracy_best_params = []\n",
    "precision_best_params = []\n",
    "f1_best_params = []"
   ]
  },
  {
   "cell_type": "markdown",
   "id": "abfff99f",
   "metadata": {},
   "source": [
    "# Logistic Regression"
   ]
  },
  {
   "cell_type": "code",
   "execution_count": null,
   "id": "0bede376",
   "metadata": {},
   "outputs": [
    {
     "name": "stdout",
     "output_type": "stream",
     "text": [
      "              precision    recall  f1-score   support\n",
      "\n",
      "           0       0.84      0.85      0.85      4703\n",
      "           1       0.44      0.42      0.43      1297\n",
      "\n",
      "    accuracy                           0.76      6000\n",
      "   macro avg       0.64      0.63      0.64      6000\n",
      "weighted avg       0.75      0.76      0.76      6000\n",
      "\n"
     ]
    }
   ],
   "source": [
    "#logistic regression\n",
    "lr = lr.fit(X_train_res, y_train_res) \n",
    "y_pred = lr.predict(X_test)\n",
    "print(classification_report(y_test, y_pred))\n",
    "\n",
    "\n",
    "accuracy_lrc = round(accuracy_score(y_test,y_pred),3)\n",
    "recall_lr = round(recall_score(y_test,y_pred, average='weighted'),3)\n",
    "precision_lrc = round(precision_score(y_test,y_pred, average='weighted'),3)\n",
    "f1_score_lr = round(f1_score(y_test,y_pred, average='weighted'),3)\n",
    "\n",
    "\n",
    "#saving results in the list\n",
    "accuracy_best_params.append(accuracy_lrc)\n",
    "recall_best_params.append(recall_lr)\n",
    "precision_best_params.append(precision_lrc)\n",
    "f1_best_params.append(f1_score_lr)"
   ]
  },
  {
   "cell_type": "code",
   "execution_count": null,
   "id": "fc685d62",
   "metadata": {},
   "outputs": [
    {
     "data": {
      "image/png": "[encoded data removed]",
      "text/plain": [
       "<Figure size 432x288 with 1 Axes>"
      ]
     },
     "metadata": {
      "needs_background": "light"
     },
     "output_type": "display_data"
    }
   ],
   "source": [
    "#plotting ROC curve\n",
    "\n",
    "fpr, tpr, _ = roc_curve(y_test,  y_pred)\n",
    "auc = roc_auc_score(y_test, y_pred)\n",
    "\n",
    "#create ROC curve\n",
    "plt.plot(fpr,tpr,label=\"AUC=\"+str(auc))\n",
    "plt.ylabel('True Positive Rate')\n",
    "plt.xlabel('False Positive Rate')\n",
    "plt.legend(loc=4)\n",
    "plt.show()"
   ]
  },
  {
   "cell_type": "markdown",
   "id": "28c559a2",
   "metadata": {},
   "source": [
    "# KNN"
   ]
  },
  {
   "cell_type": "code",
   "execution_count": null,
   "id": "6e48a931",
   "metadata": {},
   "outputs": [
    {
     "name": "stdout",
     "output_type": "stream",
     "text": [
      "              precision    recall  f1-score   support\n",
      "\n",
      "           0       0.82      0.69      0.75      4703\n",
      "           1       0.29      0.46      0.35      1297\n",
      "\n",
      "    accuracy                           0.64      6000\n",
      "   macro avg       0.56      0.57      0.55      6000\n",
      "weighted avg       0.71      0.64      0.66      6000\n",
      "\n"
     ]
    }
   ],
   "source": [
    "#KNN\n",
    "knc = knc.fit(X_train_res, y_train_res) \n",
    "y_pred = knc.predict(X_test)\n",
    "print(classification_report(y_test, y_pred))\n",
    "\n",
    "accuracy_knc = round(accuracy_score(y_test,y_pred),3)\n",
    "recall_knc = round(recall_score(y_test,y_pred, average='weighted'),3)\n",
    "precision_knc = round(precision_score(y_test,y_pred, average='weighted'),3)\n",
    "f1_score_knc = round(f1_score(y_test,y_pred, average='weighted'),3)\n",
    "\n",
    "\n",
    "#saving results in the list\n",
    "accuracy_best_params.append(accuracy_knc)\n",
    "recall_best_params.append(recall_knc)\n",
    "precision_best_params.append(precision_knc)\n",
    "f1_best_params.append(f1_score_knc)"
   ]
  },
  {
   "cell_type": "code",
   "execution_count": null,
   "id": "2fd8d038",
   "metadata": {},
   "outputs": [
    {
     "data": {
      "image/png": "[encoded data removed]",
      "text/plain": [
       "<Figure size 432x288 with 1 Axes>"
      ]
     },
     "metadata": {
      "needs_background": "light"
     },
     "output_type": "display_data"
    }
   ],
   "source": [
    "fpr, tpr, _ = roc_curve(y_test,  y_pred)\n",
    "auc = roc_auc_score(y_test, y_pred)\n",
    "\n",
    "#create ROC curve\n",
    "plt.plot(fpr,tpr,label=\"AUC=\"+str(auc))\n",
    "plt.ylabel('True Positive Rate')\n",
    "plt.xlabel('False Positive Rate')\n",
    "plt.legend(loc=4)\n",
    "plt.show()"
   ]
  },
  {
   "cell_type": "markdown",
   "id": "ff50138c",
   "metadata": {},
   "source": [
    "# SVM"
   ]
  },
  {
   "cell_type": "code",
   "execution_count": null,
   "id": "8745ce3c",
   "metadata": {},
   "outputs": [
    {
     "name": "stdout",
     "output_type": "stream",
     "text": [
      "              precision    recall  f1-score   support\n",
      "\n",
      "           0       0.79      0.99      0.88      4703\n",
      "           1       0.47      0.02      0.04      1297\n",
      "\n",
      "    accuracy                           0.78      6000\n",
      "   macro avg       0.63      0.51      0.46      6000\n",
      "weighted avg       0.72      0.78      0.70      6000\n",
      "\n"
     ]
    }
   ],
   "source": [
    "svc = svc.fit(X_train_res, y_train_res) \n",
    "y_pred = svc.predict(X_test)\n",
    "print(classification_report(y_test, y_pred))\n",
    "\n",
    "accuracy_svc = round(accuracy_score(y_test,y_pred),3)\n",
    "recall_svc = round(recall_score(y_test,y_pred, average='weighted'),3)\n",
    "precision_svc = round(precision_score(y_test,y_pred, average='weighted'),3)\n",
    "f1_score_svc = round(f1_score(y_test,y_pred, average='weighted'),3)\n",
    "\n",
    "\n",
    "#saving results in the list\n",
    "accuracy_best_params.append(accuracy_svc)\n",
    "recall_best_params.append(recall_svc)\n",
    "precision_best_params.append(precision_svc)\n",
    "f1_best_params.append(f1_score_svc)"
   ]
  },
  {
   "cell_type": "code",
   "execution_count": null,
   "id": "b2ff12e7",
   "metadata": {},
   "outputs": [
    {
     "data": {
      "image/png": "[encoded data removed]",
      "text/plain": [
       "<Figure size 432x288 with 1 Axes>"
      ]
     },
     "metadata": {
      "needs_background": "light"
     },
     "output_type": "display_data"
    }
   ],
   "source": [
    "fpr, tpr, _ = roc_curve(y_test,  y_pred)\n",
    "auc = roc_auc_score(y_test, y_pred)\n",
    "\n",
    "#create ROC curve\n",
    "plt.plot(fpr,tpr,label=\"AUC=\"+str(auc))\n",
    "plt.ylabel('True Positive Rate')\n",
    "plt.xlabel('False Positive Rate')\n",
    "plt.legend(loc=4)\n",
    "plt.show()"
   ]
  },
  {
   "cell_type": "markdown",
   "id": "99273231",
   "metadata": {},
   "source": [
    "# XGBoost"
   ]
  },
  {
   "cell_type": "code",
   "execution_count": null,
   "id": "e5acd6b9",
   "metadata": {},
   "outputs": [
    {
     "name": "stdout",
     "output_type": "stream",
     "text": [
      "              precision    recall  f1-score   support\n",
      "\n",
      "           0       0.85      0.87      0.86      4703\n",
      "           1       0.49      0.45      0.47      1297\n",
      "\n",
      "    accuracy                           0.78      6000\n",
      "   macro avg       0.67      0.66      0.67      6000\n",
      "weighted avg       0.77      0.78      0.78      6000\n",
      "\n"
     ]
    }
   ],
   "source": [
    "xgb = xgb.fit(X_train_res, y_train_res) \n",
    "y_pred = xgb.predict(X_test)\n",
    "print(classification_report(y_test, y_pred))\n",
    "\n",
    "accuracy_xgb = round(accuracy_score(y_test,y_pred),3)\n",
    "recall_xgb = round(recall_score(y_test,y_pred, average='weighted'),3)\n",
    "precision_xgb = round(precision_score(y_test,y_pred, average='weighted'),3)\n",
    "f1_score_xgb = round(f1_score(y_test,y_pred, average='weighted'),3)\n",
    "\n",
    "#saving results in the list\n",
    "accuracy_best_params.append(accuracy_xgb)\n",
    "recall_best_params.append(recall_xgb)\n",
    "precision_best_params.append(precision_xgb)\n",
    "f1_best_params.append(f1_score_xgb)\n"
   ]
  },
  {
   "cell_type": "code",
   "execution_count": null,
   "id": "b72264d1",
   "metadata": {},
   "outputs": [
    {
     "data": {
      "image/png": "[encoded data removed]",
      "text/plain": [
       "<Figure size 432x288 with 1 Axes>"
      ]
     },
     "metadata": {
      "needs_background": "light"
     },
     "output_type": "display_data"
    }
   ],
   "source": [
    "fpr, tpr, _ = roc_curve(y_test,  y_pred)\n",
    "auc = roc_auc_score(y_test, y_pred)\n",
    "\n",
    "#create ROC curve\n",
    "plt.plot(fpr,tpr,label=\"AUC=\"+str(auc))\n",
    "plt.ylabel('True Positive Rate')\n",
    "plt.xlabel('False Positive Rate')\n",
    "plt.legend(loc=4)\n",
    "plt.show()"
   ]
  },
  {
   "cell_type": "code",
   "execution_count": null,
   "id": "50b6fe3a",
   "metadata": {},
   "outputs": [
    {
     "data": {
      "text/html": [
       "<div>\n",
       "<style scoped>\n",
       "    .dataframe tbody tr th:only-of-type {\n",
       "        vertical-align: middle;\n",
       "    }\n",
       "\n",
       "    .dataframe tbody tr th {\n",
       "        vertical-align: top;\n",
       "    }\n",
       "\n",
       "    .dataframe thead th {\n",
       "        text-align: right;\n",
       "    }\n",
       "</style>\n",
       "<table border=\"1\" class=\"dataframe\">\n",
       "  <thead>\n",
       "    <tr style=\"text-align: right;\">\n",
       "      <th></th>\n",
       "      <th>Models</th>\n",
       "      <th>Accuracy</th>\n",
       "      <th>Recall</th>\n",
       "      <th>Precision</th>\n",
       "      <th>f1-score</th>\n",
       "    </tr>\n",
       "  </thead>\n",
       "  <tbody>\n",
       "    <tr>\n",
       "      <th>0</th>\n",
       "      <td>Logistic Regression</td>\n",
       "      <td>0.758</td>\n",
       "      <td>0.758</td>\n",
       "      <td>0.754</td>\n",
       "      <td>0.755</td>\n",
       "    </tr>\n",
       "    <tr>\n",
       "      <th>1</th>\n",
       "      <td>KNN</td>\n",
       "      <td>0.640</td>\n",
       "      <td>0.640</td>\n",
       "      <td>0.706</td>\n",
       "      <td>0.665</td>\n",
       "    </tr>\n",
       "    <tr>\n",
       "      <th>2</th>\n",
       "      <td>SVM</td>\n",
       "      <td>0.783</td>\n",
       "      <td>0.783</td>\n",
       "      <td>0.717</td>\n",
       "      <td>0.697</td>\n",
       "    </tr>\n",
       "    <tr>\n",
       "      <th>3</th>\n",
       "      <td>XGBoost</td>\n",
       "      <td>0.780</td>\n",
       "      <td>0.780</td>\n",
       "      <td>0.774</td>\n",
       "      <td>0.777</td>\n",
       "    </tr>\n",
       "  </tbody>\n",
       "</table>\n",
       "</div>"
      ],
      "text/plain": [
       "                Models  Accuracy  Recall  Precision  f1-score\n",
       "0  Logistic Regression     0.758   0.758      0.754     0.755\n",
       "1                  KNN     0.640   0.640      0.706     0.665\n",
       "2                  SVM     0.783   0.783      0.717     0.697\n",
       "3              XGBoost     0.780   0.780      0.774     0.777"
      ]
     },
     "execution_count": 43,
     "metadata": {},
     "output_type": "execute_result"
    }
   ],
   "source": [
    "dataframe_best_params = pd.DataFrame(list(zip(models, accuracy_best_params, recall_best_params, precision_best_params, f1_best_params)), columns = ['Models','Accuracy','Recall', 'Precision','f1-score'])\n",
    "dataframe_best_params.head()"
   ]
  },
  {
   "cell_type": "code",
   "execution_count": null,
   "id": "7d3ccbb2",
   "metadata": {},
   "outputs": [
    {
     "data": {
      "text/html": [
       "<div>\n",
       "<style scoped>\n",
       "    .dataframe tbody tr th:only-of-type {\n",
       "        vertical-align: middle;\n",
       "    }\n",
       "\n",
       "    .dataframe tbody tr th {\n",
       "        vertical-align: top;\n",
       "    }\n",
       "\n",
       "    .dataframe thead th {\n",
       "        text-align: right;\n",
       "    }\n",
       "</style>\n",
       "<table border=\"1\" class=\"dataframe\">\n",
       "  <thead>\n",
       "    <tr style=\"text-align: right;\">\n",
       "      <th></th>\n",
       "      <th>Models</th>\n",
       "      <th>Accuracy</th>\n",
       "      <th>Recall</th>\n",
       "      <th>Precision</th>\n",
       "      <th>f1-score</th>\n",
       "    </tr>\n",
       "  </thead>\n",
       "  <tbody>\n",
       "    <tr>\n",
       "      <th>0</th>\n",
       "      <td>Logistic Regression</td>\n",
       "      <td>0.651</td>\n",
       "      <td>0.651</td>\n",
       "      <td>0.718</td>\n",
       "      <td>0.675</td>\n",
       "    </tr>\n",
       "    <tr>\n",
       "      <th>1</th>\n",
       "      <td>KNN</td>\n",
       "      <td>0.605</td>\n",
       "      <td>0.605</td>\n",
       "      <td>0.711</td>\n",
       "      <td>0.638</td>\n",
       "    </tr>\n",
       "    <tr>\n",
       "      <th>2</th>\n",
       "      <td>SVM</td>\n",
       "      <td>0.571</td>\n",
       "      <td>0.571</td>\n",
       "      <td>0.743</td>\n",
       "      <td>0.608</td>\n",
       "    </tr>\n",
       "    <tr>\n",
       "      <th>3</th>\n",
       "      <td>XGBoost</td>\n",
       "      <td>0.777</td>\n",
       "      <td>0.777</td>\n",
       "      <td>0.768</td>\n",
       "      <td>0.772</td>\n",
       "    </tr>\n",
       "  </tbody>\n",
       "</table>\n",
       "</div>"
      ],
      "text/plain": [
       "                Models  Accuracy  Recall  Precision  f1-score\n",
       "0  Logistic Regression     0.651   0.651      0.718     0.675\n",
       "1                  KNN     0.605   0.605      0.711     0.638\n",
       "2                  SVM     0.571   0.571      0.743     0.608\n",
       "3              XGBoost     0.777   0.777      0.768     0.772"
      ]
     },
     "execution_count": 45,
     "metadata": {},
     "output_type": "execute_result"
    }
   ],
   "source": [
    "dataframe.head()"
   ]
  },
  {
   "cell_type": "markdown",
   "id": "48abaccf",
   "metadata": {},
   "source": [
    "It can be seen that using best parameters improved all the scores."
   ]
  },
  {
   "cell_type": "code",
   "execution_count": null,
   "id": "7d87acac",
   "metadata": {},
   "outputs": [],
   "source": [
    "#saving dataframe in a csv file to avoid running models again and again\n",
    "\n",
    "dataframe.to_csv('Model_Scores_best_params.csv', index=False)"
   ]
  },
  {
   "cell_type": "markdown",
   "id": "ccdda2b9",
   "metadata": {},
   "source": [
    "# Dimensionallity Reduction - PCA"
   ]
  },
  {
   "cell_type": "code",
   "execution_count": null,
   "id": "9ddd5d3a",
   "metadata": {},
   "outputs": [
    {
     "name": "stdout",
     "output_type": "stream",
     "text": [
      "Original: (37322, 26)\n",
      "PCA Transformed: (37322, 15)\n"
     ]
    }
   ],
   "source": [
    "#standard scalar\n",
    "\n",
    "X_train_sc = pd.DataFrame(sc.fit_transform(X_train_res),columns = X_train_res.columns)\n",
    "X_test_sc = pd.DataFrame(sc.transform(X_test),columns = X_test.columns)\n",
    "\n",
    "#performing PCA\n",
    "\n",
    "pca = PCA(n_components = 0.9)\n",
    "X_train_pca = pd.DataFrame(pca.fit_transform(X_train_sc))\n",
    "X_test_pca = pd.DataFrame(pca.transform(X_test_sc))\n",
    "\n",
    "print(f'Original: {X_train_res.shape}')\n",
    "print(f'PCA Transformed: {X_train_pca.shape}')"
   ]
  },
  {
   "cell_type": "code",
   "execution_count": null,
   "id": "88df37f9",
   "metadata": {},
   "outputs": [
    {
     "data": {
      "text/html": [
       "<div>\n",
       "<style scoped>\n",
       "    .dataframe tbody tr th:only-of-type {\n",
       "        vertical-align: middle;\n",
       "    }\n",
       "\n",
       "    .dataframe tbody tr th {\n",
       "        vertical-align: top;\n",
       "    }\n",
       "\n",
       "    .dataframe thead th {\n",
       "        text-align: right;\n",
       "    }\n",
       "</style>\n",
       "<table border=\"1\" class=\"dataframe\">\n",
       "  <thead>\n",
       "    <tr style=\"text-align: right;\">\n",
       "      <th></th>\n",
       "      <th>0</th>\n",
       "      <th>1</th>\n",
       "      <th>2</th>\n",
       "      <th>3</th>\n",
       "      <th>4</th>\n",
       "      <th>5</th>\n",
       "      <th>6</th>\n",
       "      <th>7</th>\n",
       "      <th>8</th>\n",
       "      <th>9</th>\n",
       "      <th>10</th>\n",
       "      <th>11</th>\n",
       "      <th>12</th>\n",
       "      <th>13</th>\n",
       "      <th>14</th>\n",
       "    </tr>\n",
       "  </thead>\n",
       "  <tbody>\n",
       "    <tr>\n",
       "      <th>0</th>\n",
       "      <td>-1.196002</td>\n",
       "      <td>-1.088930</td>\n",
       "      <td>-2.101959</td>\n",
       "      <td>1.178225</td>\n",
       "      <td>-0.551625</td>\n",
       "      <td>1.961024</td>\n",
       "      <td>-0.746287</td>\n",
       "      <td>-0.812112</td>\n",
       "      <td>0.176837</td>\n",
       "      <td>0.050608</td>\n",
       "      <td>0.099674</td>\n",
       "      <td>-0.029380</td>\n",
       "      <td>-0.213249</td>\n",
       "      <td>0.747215</td>\n",
       "      <td>-0.117301</td>\n",
       "    </tr>\n",
       "    <tr>\n",
       "      <th>1</th>\n",
       "      <td>-2.400473</td>\n",
       "      <td>0.853851</td>\n",
       "      <td>0.660715</td>\n",
       "      <td>-1.491268</td>\n",
       "      <td>0.989811</td>\n",
       "      <td>0.642099</td>\n",
       "      <td>0.207690</td>\n",
       "      <td>-0.392462</td>\n",
       "      <td>0.266411</td>\n",
       "      <td>0.056423</td>\n",
       "      <td>-0.018827</td>\n",
       "      <td>-0.087463</td>\n",
       "      <td>0.001090</td>\n",
       "      <td>-0.702052</td>\n",
       "      <td>0.717397</td>\n",
       "    </tr>\n",
       "    <tr>\n",
       "      <th>2</th>\n",
       "      <td>-0.509592</td>\n",
       "      <td>-1.628711</td>\n",
       "      <td>-0.928496</td>\n",
       "      <td>-0.500663</td>\n",
       "      <td>0.981187</td>\n",
       "      <td>-1.050940</td>\n",
       "      <td>-0.292968</td>\n",
       "      <td>0.527187</td>\n",
       "      <td>-0.160746</td>\n",
       "      <td>-0.048650</td>\n",
       "      <td>0.049174</td>\n",
       "      <td>0.063011</td>\n",
       "      <td>0.137533</td>\n",
       "      <td>0.836358</td>\n",
       "      <td>0.067452</td>\n",
       "    </tr>\n",
       "    <tr>\n",
       "      <th>3</th>\n",
       "      <td>1.405726</td>\n",
       "      <td>-4.325725</td>\n",
       "      <td>0.584983</td>\n",
       "      <td>-0.096603</td>\n",
       "      <td>0.967941</td>\n",
       "      <td>-0.896177</td>\n",
       "      <td>-0.034216</td>\n",
       "      <td>0.370994</td>\n",
       "      <td>-0.111266</td>\n",
       "      <td>-0.010153</td>\n",
       "      <td>-0.078502</td>\n",
       "      <td>-0.039570</td>\n",
       "      <td>0.039830</td>\n",
       "      <td>0.159046</td>\n",
       "      <td>-0.935368</td>\n",
       "    </tr>\n",
       "    <tr>\n",
       "      <th>4</th>\n",
       "      <td>-1.166613</td>\n",
       "      <td>-1.331269</td>\n",
       "      <td>-0.214120</td>\n",
       "      <td>-0.636438</td>\n",
       "      <td>1.221545</td>\n",
       "      <td>-0.733641</td>\n",
       "      <td>-0.368034</td>\n",
       "      <td>0.678383</td>\n",
       "      <td>-0.230584</td>\n",
       "      <td>-0.077418</td>\n",
       "      <td>0.153918</td>\n",
       "      <td>0.095465</td>\n",
       "      <td>-0.077673</td>\n",
       "      <td>-0.052270</td>\n",
       "      <td>-1.019539</td>\n",
       "    </tr>\n",
       "  </tbody>\n",
       "</table>\n",
       "</div>"
      ],
      "text/plain": [
       "         0         1         2         3         4         5         6   \\\n",
       "0 -1.196002 -1.088930 -2.101959  1.178225 -0.551625  1.961024 -0.746287   \n",
       "1 -2.400473  0.853851  0.660715 -1.491268  0.989811  0.642099  0.207690   \n",
       "2 -0.509592 -1.628711 -0.928496 -0.500663  0.981187 -1.050940 -0.292968   \n",
       "3  1.405726 -4.325725  0.584983 -0.096603  0.967941 -0.896177 -0.034216   \n",
       "4 -1.166613 -1.331269 -0.214120 -0.636438  1.221545 -0.733641 -0.368034   \n",
       "\n",
       "         7         8         9         10        11        12        13  \\\n",
       "0 -0.812112  0.176837  0.050608  0.099674 -0.029380 -0.213249  0.747215   \n",
       "1 -0.392462  0.266411  0.056423 -0.018827 -0.087463  0.001090 -0.702052   \n",
       "2  0.527187 -0.160746 -0.048650  0.049174  0.063011  0.137533  0.836358   \n",
       "3  0.370994 -0.111266 -0.010153 -0.078502 -0.039570  0.039830  0.159046   \n",
       "4  0.678383 -0.230584 -0.077418  0.153918  0.095465 -0.077673 -0.052270   \n",
       "\n",
       "         14  \n",
       "0 -0.117301  \n",
       "1  0.717397  \n",
       "2  0.067452  \n",
       "3 -0.935368  \n",
       "4 -1.019539  "
      ]
     },
     "execution_count": 47,
     "metadata": {},
     "output_type": "execute_result"
    }
   ],
   "source": [
    "X_train_pca.head()"
   ]
  },
  {
   "cell_type": "code",
   "execution_count": null,
   "id": "8c3b252e",
   "metadata": {},
   "outputs": [],
   "source": [
    "recall_pca = []\n",
    "accuracy_pca = []\n",
    "precision_pca = []\n",
    "f1_pca = []"
   ]
  },
  {
   "cell_type": "markdown",
   "id": "29ae76bf",
   "metadata": {},
   "source": [
    "# Logistic Regression"
   ]
  },
  {
   "cell_type": "code",
   "execution_count": null,
   "id": "7e9758c2",
   "metadata": {},
   "outputs": [
    {
     "name": "stdout",
     "output_type": "stream",
     "text": [
      "              precision    recall  f1-score   support\n",
      "\n",
      "           0       0.85      0.71      0.77      4703\n",
      "           1       0.34      0.54      0.41      1297\n",
      "\n",
      "    accuracy                           0.67      6000\n",
      "   macro avg       0.59      0.62      0.59      6000\n",
      "weighted avg       0.74      0.67      0.69      6000\n",
      "\n"
     ]
    }
   ],
   "source": [
    "#logistic regression\n",
    "lr_pca = lr.fit(X_train_pca, y_train_res) \n",
    "y_pred_pca = lr_pca.predict(X_test_pca)\n",
    "print(classification_report(y_test, y_pred_pca))\n",
    "\n",
    "\n",
    "accuracy_lrc_pca = round(accuracy_score(y_test,y_pred_pca),3)\n",
    "recall_lr_pca = round(recall_score(y_test,y_pred_pca, average='weighted'),3)\n",
    "precision_lrc_pca = round(precision_score(y_test,y_pred_pca, average='weighted'),3)\n",
    "f1_score_lr_pca = round(f1_score(y_test,y_pred_pca, average='weighted'),3)\n",
    "\n",
    "\n",
    "#saving results in the list\n",
    "accuracy_pca.append(accuracy_lrc_pca)\n",
    "recall_pca.append(recall_lr_pca)\n",
    "precision_pca.append(precision_lrc_pca)\n",
    "f1_pca.append(f1_score_lr_pca)"
   ]
  },
  {
   "cell_type": "code",
   "execution_count": null,
   "id": "bed5e9e2",
   "metadata": {},
   "outputs": [
    {
     "data": {
      "image/png": "[encoded data removed]",
      "text/plain": [
       "<Figure size 432x288 with 1 Axes>"
      ]
     },
     "metadata": {
      "needs_background": "light"
     },
     "output_type": "display_data"
    }
   ],
   "source": [
    "fpr, tpr, _ = roc_curve(y_test,  y_pred_pca)\n",
    "auc = roc_auc_score(y_test, y_pred_pca)\n",
    "\n",
    "#create ROC curve\n",
    "plt.plot(fpr,tpr,label=\"AUC=\"+str(auc))\n",
    "plt.ylabel('True Positive Rate')\n",
    "plt.xlabel('False Positive Rate')\n",
    "plt.legend(loc=4)\n",
    "plt.show()"
   ]
  },
  {
   "cell_type": "markdown",
   "id": "16a60af8",
   "metadata": {},
   "source": [
    "# KNN"
   ]
  },
  {
   "cell_type": "code",
   "execution_count": null,
   "id": "5c6d795c",
   "metadata": {},
   "outputs": [
    {
     "name": "stdout",
     "output_type": "stream",
     "text": [
      "              precision    recall  f1-score   support\n",
      "\n",
      "           0       0.84      0.83      0.83      4703\n",
      "           1       0.40      0.41      0.40      1297\n",
      "\n",
      "    accuracy                           0.74      6000\n",
      "   macro avg       0.62      0.62      0.62      6000\n",
      "weighted avg       0.74      0.74      0.74      6000\n",
      "\n"
     ]
    }
   ],
   "source": [
    "#KNN\n",
    "knc_pca = knc.fit(X_train_pca, y_train_res) \n",
    "y_pred_pca = knc_pca.predict(X_test_pca)\n",
    "print(classification_report(y_test, y_pred_pca))\n",
    "\n",
    "\n",
    "accuracy_knc_pca = round(accuracy_score(y_test,y_pred_pca),3)\n",
    "recall_knc_pca = round(recall_score(y_test,y_pred_pca, average='weighted'),3)\n",
    "precision_knc_pca = round(precision_score(y_test,y_pred_pca, average='weighted'),3)\n",
    "f1_score_knc_pca = round(f1_score(y_test,y_pred_pca, average='weighted'),3)\n",
    "\n",
    "\n",
    "#saving results in the list\n",
    "accuracy_pca.append(accuracy_knc_pca)\n",
    "recall_pca.append(recall_knc_pca)\n",
    "precision_pca.append(precision_knc_pca)\n",
    "f1_pca.append(f1_score_knc_pca)"
   ]
  },
  {
   "cell_type": "code",
   "execution_count": null,
   "id": "e79e22b1",
   "metadata": {},
   "outputs": [
    {
     "data": {
      "image/png": "[encoded data removed]",
      "text/plain": [
       "<Figure size 432x288 with 1 Axes>"
      ]
     },
     "metadata": {
      "needs_background": "light"
     },
     "output_type": "display_data"
    }
   ],
   "source": [
    "fpr, tpr, _ = roc_curve(y_test,  y_pred_pca)\n",
    "auc = roc_auc_score(y_test, y_pred_pca)\n",
    "\n",
    "#create ROC curve\n",
    "plt.plot(fpr,tpr,label=\"AUC=\"+str(auc))\n",
    "plt.ylabel('True Positive Rate')\n",
    "plt.xlabel('False Positive Rate')\n",
    "plt.legend(loc=4)\n",
    "plt.show()"
   ]
  },
  {
   "cell_type": "markdown",
   "id": "c3af7d5d",
   "metadata": {},
   "source": [
    "# SVM"
   ]
  },
  {
   "cell_type": "code",
   "execution_count": null,
   "id": "e2c480db",
   "metadata": {},
   "outputs": [
    {
     "name": "stdout",
     "output_type": "stream",
     "text": [
      "              precision    recall  f1-score   support\n",
      "\n",
      "           0       0.84      0.85      0.85      4703\n",
      "           1       0.44      0.41      0.43      1297\n",
      "\n",
      "    accuracy                           0.76      6000\n",
      "   macro avg       0.64      0.63      0.64      6000\n",
      "weighted avg       0.75      0.76      0.76      6000\n",
      "\n"
     ]
    }
   ],
   "source": [
    "svc_pca = svc.fit(X_train_pca, y_train_res) \n",
    "y_pred_pca = svc_pca.predict(X_test_pca)\n",
    "print(classification_report(y_test, y_pred_pca))\n",
    "\n",
    "\n",
    "accuracy_svc_pca = round(accuracy_score(y_test,y_pred_pca),3)\n",
    "recall_svc_pca = round(recall_score(y_test,y_pred_pca, average='weighted'),3)\n",
    "precision_svc_pca = round(precision_score(y_test,y_pred_pca, average='weighted'),3)\n",
    "f1_score_svc_pca = round(f1_score(y_test,y_pred_pca, average='weighted'),3)\n",
    "\n",
    "\n",
    "#saving results in the list\n",
    "accuracy_pca.append(accuracy_svc_pca)\n",
    "recall_pca.append(recall_svc_pca)\n",
    "precision_pca.append(precision_svc_pca)\n",
    "f1_pca.append(f1_score_svc_pca)"
   ]
  },
  {
   "cell_type": "code",
   "execution_count": null,
   "id": "36562d8d",
   "metadata": {},
   "outputs": [
    {
     "data": {
      "image/png": "[encoded data removed]",
      "text/plain": [
       "<Figure size 432x288 with 1 Axes>"
      ]
     },
     "metadata": {
      "needs_background": "light"
     },
     "output_type": "display_data"
    }
   ],
   "source": [
    "fpr, tpr, _ = roc_curve(y_test,  y_pred_pca)\n",
    "auc = roc_auc_score(y_test, y_pred_pca)\n",
    "\n",
    "#create ROC curve\n",
    "plt.plot(fpr,tpr,label=\"AUC=\"+str(auc))\n",
    "plt.ylabel('True Positive Rate')\n",
    "plt.xlabel('False Positive Rate')\n",
    "plt.legend(loc=4)\n",
    "plt.show()"
   ]
  },
  {
   "cell_type": "markdown",
   "id": "1313f89c",
   "metadata": {},
   "source": [
    "# XGBoost"
   ]
  },
  {
   "cell_type": "code",
   "execution_count": 4,
   "id": "5fa0713f",
   "metadata": {},
   "outputs": [
    {
     "ename": "NameError",
     "evalue": "name 'xgb' is not defined",
     "output_type": "error",
     "traceback": [
      "\u001b[1;31m---------------------------------------------------------------------------\u001b[0m",
      "\u001b[1;31mNameError\u001b[0m                                 Traceback (most recent call last)",
      "\u001b[1;32mc:\\Users\\Robin\\Downloads\\Credit_Card_Default.ipynb Cell 72\u001b[0m in \u001b[0;36m<cell line: 1>\u001b[1;34m()\u001b[0m\n\u001b[1;32m----> <a href='vscode-notebook-cell:/c%3A/Users/Robin/Downloads/Credit_Card_Default.ipynb#ch0000076?line=0'>1</a>\u001b[0m xgb_pca \u001b[39m=\u001b[39m xgb\u001b[39m.\u001b[39mfit(X_train_pca, y_train_res) \n\u001b[0;32m      <a href='vscode-notebook-cell:/c%3A/Users/Robin/Downloads/Credit_Card_Default.ipynb#ch0000076?line=1'>2</a>\u001b[0m y_pred_pca \u001b[39m=\u001b[39m xgb_pca\u001b[39m.\u001b[39mpredict(X_test_pca)\n\u001b[0;32m      <a href='vscode-notebook-cell:/c%3A/Users/Robin/Downloads/Credit_Card_Default.ipynb#ch0000076?line=2'>3</a>\u001b[0m \u001b[39mprint\u001b[39m(classification_report(y_test, y_pred_pca))\n",
      "\u001b[1;31mNameError\u001b[0m: name 'xgb' is not defined"
     ]
    }
   ],
   "source": [
    "xgb_pca = xgb.fit(X_train_pca, y_train_res) \n",
    "y_pred_pca = xgb_pca.predict(X_test_pca)\n",
    "print(classification_report(y_test, y_pred_pca))\n",
    "\n",
    "\n",
    "accuracy_xgb_pca = round(accuracy_score(y_test,y_pred_pca),3)\n",
    "recall_xgb_pca = round(recall_score(y_test,y_pred_pca, average='weighted'),3)\n",
    "precision_xgb_pca = round(precision_score(y_test,y_pred_pca, average='weighted'),3)\n",
    "f1_score_xgb_pca = round(f1_score(y_test,y_pred_pca, average='weighted'),3)\n",
    "\n",
    "\n",
    "#saving results in the list\n",
    "accuracy_pca.append(accuracy_xgb_pca)\n",
    "recall_pca.append(recall_xgb_pca)\n",
    "precision_pca.append(precision_xgb_pca)\n",
    "f1_pca.append(f1_score_xgb_pca)"
   ]
  },
  {
   "cell_type": "code",
   "execution_count": null,
   "id": "90fe025b",
   "metadata": {},
   "outputs": [
    {
     "ename": "NameError",
     "evalue": "name 'y_pred_pca' is not defined",
     "output_type": "error",
     "traceback": [
      "\u001b[1;31m---------------------------------------------------------------------------\u001b[0m",
      "\u001b[1;31mNameError\u001b[0m                                 Traceback (most recent call last)",
      "\u001b[1;32mc:\\Users\\Robin\\Downloads\\Credit_Card_Default.ipynb Cell 73\u001b[0m in \u001b[0;36m<cell line: 2>\u001b[1;34m()\u001b[0m\n\u001b[0;32m      <a href='vscode-notebook-cell:/c%3A/Users/Robin/Downloads/Credit_Card_Default.ipynb#ch0000094?line=0'>1</a>\u001b[0m \u001b[39mfrom\u001b[39;00m \u001b[39msklearn\u001b[39;00m\u001b[39m.\u001b[39;00m\u001b[39mmetrics\u001b[39;00m \u001b[39mimport\u001b[39;00m plot_confusion_matrix, confusion_matrix\n\u001b[1;32m----> <a href='vscode-notebook-cell:/c%3A/Users/Robin/Downloads/Credit_Card_Default.ipynb#ch0000094?line=1'>2</a>\u001b[0m plot_confusion_matrix(y_pred_pca, X_test, y_test)\n",
      "\u001b[1;31mNameError\u001b[0m: name 'y_pred_pca' is not defined"
     ]
    }
   ],
   "source": [
    "from sklearn.metrics import plot_confusion_matrix, confusion_matrix\n",
    "plot_confusion_matrix(y_pred_pca, X_test, y_test)"
   ]
  },
  {
   "cell_type": "code",
   "execution_count": null,
   "id": "97961d2d",
   "metadata": {},
   "outputs": [
    {
     "data": {
      "image/png": "[encoded data removed]",
      "text/plain": [
       "<Figure size 432x288 with 1 Axes>"
      ]
     },
     "metadata": {
      "needs_background": "light"
     },
     "output_type": "display_data"
    }
   ],
   "source": [
    "fpr, tpr, _ = roc_curve(y_test,  y_pred_pca)\n",
    "auc = roc_auc_score(y_test, y_pred_pca)\n",
    "\n",
    "#create ROC curve\n",
    "plt.plot(fpr,tpr,label=\"AUC=\"+str(auc))\n",
    "plt.ylabel('True Positive Rate')\n",
    "plt.xlabel('False Positive Rate')\n",
    "plt.legend(loc=4)\n",
    "plt.show()"
   ]
  },
  {
   "cell_type": "code",
   "execution_count": null,
   "id": "19dd211e",
   "metadata": {},
   "outputs": [],
   "source": [
    "dataframe_pca = pd.DataFrame(list(zip(models, accuracy_pca, recall_pca, precision_pca, f1_pca)), columns = ['Models','Accuracy','Recall', 'Precision','f1-score'])"
   ]
  },
  {
   "cell_type": "code",
   "execution_count": null,
   "id": "6841528f",
   "metadata": {},
   "outputs": [
    {
     "data": {
      "text/html": [
       "<div>\n",
       "<style scoped>\n",
       "    .dataframe tbody tr th:only-of-type {\n",
       "        vertical-align: middle;\n",
       "    }\n",
       "\n",
       "    .dataframe tbody tr th {\n",
       "        vertical-align: top;\n",
       "    }\n",
       "\n",
       "    .dataframe thead th {\n",
       "        text-align: right;\n",
       "    }\n",
       "</style>\n",
       "<table border=\"1\" class=\"dataframe\">\n",
       "  <thead>\n",
       "    <tr style=\"text-align: right;\">\n",
       "      <th></th>\n",
       "      <th>Models</th>\n",
       "      <th>Accuracy</th>\n",
       "      <th>Recall</th>\n",
       "      <th>Precision</th>\n",
       "      <th>f1-score</th>\n",
       "    </tr>\n",
       "  </thead>\n",
       "  <tbody>\n",
       "    <tr>\n",
       "      <th>0</th>\n",
       "      <td>Logistic Regression</td>\n",
       "      <td>0.758</td>\n",
       "      <td>0.758</td>\n",
       "      <td>0.754</td>\n",
       "      <td>0.755</td>\n",
       "    </tr>\n",
       "    <tr>\n",
       "      <th>1</th>\n",
       "      <td>KNN</td>\n",
       "      <td>0.640</td>\n",
       "      <td>0.640</td>\n",
       "      <td>0.706</td>\n",
       "      <td>0.665</td>\n",
       "    </tr>\n",
       "    <tr>\n",
       "      <th>2</th>\n",
       "      <td>SVM</td>\n",
       "      <td>0.783</td>\n",
       "      <td>0.783</td>\n",
       "      <td>0.717</td>\n",
       "      <td>0.697</td>\n",
       "    </tr>\n",
       "    <tr>\n",
       "      <th>3</th>\n",
       "      <td>XGBoost</td>\n",
       "      <td>0.780</td>\n",
       "      <td>0.780</td>\n",
       "      <td>0.774</td>\n",
       "      <td>0.777</td>\n",
       "    </tr>\n",
       "  </tbody>\n",
       "</table>\n",
       "</div>"
      ],
      "text/plain": [
       "                Models  Accuracy  Recall  Precision  f1-score\n",
       "0  Logistic Regression     0.758   0.758      0.754     0.755\n",
       "1                  KNN     0.640   0.640      0.706     0.665\n",
       "2                  SVM     0.783   0.783      0.717     0.697\n",
       "3              XGBoost     0.780   0.780      0.774     0.777"
      ]
     },
     "execution_count": 60,
     "metadata": {},
     "output_type": "execute_result"
    }
   ],
   "source": [
    "#comparing the two dataframes\n",
    "\n",
    "#Without PCA\n",
    "dataframe_best_params"
   ]
  },
  {
   "cell_type": "code",
   "execution_count": null,
   "id": "71467daf",
   "metadata": {},
   "outputs": [
    {
     "data": {
      "text/html": [
       "<div>\n",
       "<style scoped>\n",
       "    .dataframe tbody tr th:only-of-type {\n",
       "        vertical-align: middle;\n",
       "    }\n",
       "\n",
       "    .dataframe tbody tr th {\n",
       "        vertical-align: top;\n",
       "    }\n",
       "\n",
       "    .dataframe thead th {\n",
       "        text-align: right;\n",
       "    }\n",
       "</style>\n",
       "<table border=\"1\" class=\"dataframe\">\n",
       "  <thead>\n",
       "    <tr style=\"text-align: right;\">\n",
       "      <th></th>\n",
       "      <th>Models</th>\n",
       "      <th>Accuracy</th>\n",
       "      <th>Recall</th>\n",
       "      <th>Precision</th>\n",
       "      <th>f1-score</th>\n",
       "    </tr>\n",
       "  </thead>\n",
       "  <tbody>\n",
       "    <tr>\n",
       "      <th>0</th>\n",
       "      <td>Logistic Regression</td>\n",
       "      <td>0.671</td>\n",
       "      <td>0.671</td>\n",
       "      <td>0.737</td>\n",
       "      <td>0.694</td>\n",
       "    </tr>\n",
       "    <tr>\n",
       "      <th>1</th>\n",
       "      <td>KNN</td>\n",
       "      <td>0.739</td>\n",
       "      <td>0.739</td>\n",
       "      <td>0.741</td>\n",
       "      <td>0.740</td>\n",
       "    </tr>\n",
       "    <tr>\n",
       "      <th>2</th>\n",
       "      <td>SVM</td>\n",
       "      <td>0.760</td>\n",
       "      <td>0.760</td>\n",
       "      <td>0.754</td>\n",
       "      <td>0.757</td>\n",
       "    </tr>\n",
       "    <tr>\n",
       "      <th>3</th>\n",
       "      <td>XGBoost</td>\n",
       "      <td>0.755</td>\n",
       "      <td>0.755</td>\n",
       "      <td>0.765</td>\n",
       "      <td>0.759</td>\n",
       "    </tr>\n",
       "  </tbody>\n",
       "</table>\n",
       "</div>"
      ],
      "text/plain": [
       "                Models  Accuracy  Recall  Precision  f1-score\n",
       "0  Logistic Regression     0.671   0.671      0.737     0.694\n",
       "1                  KNN     0.739   0.739      0.741     0.740\n",
       "2                  SVM     0.760   0.760      0.754     0.757\n",
       "3              XGBoost     0.755   0.755      0.765     0.759"
      ]
     },
     "execution_count": 61,
     "metadata": {},
     "output_type": "execute_result"
    }
   ],
   "source": [
    "#With PCA\n",
    "\n",
    "dataframe_pca"
   ]
  },
  {
   "cell_type": "markdown",
   "id": "94b9e0ff",
   "metadata": {},
   "source": [
    "Reducing the number of dimensions, improved the scores for KNN Model but decreased the scores for Logistic, SVM and XGBoost.\n",
    "\n",
    "XGBoost without reducing dimensions is giving better results as compared to other models, with an accuracy and recall score of around 80%."
   ]
  },
  {
   "cell_type": "code",
   "execution_count": null,
   "id": "b343b577",
   "metadata": {},
   "outputs": [],
   "source": [
    "#saving dataframe in a csv file to avoid running models again and again\n",
    "\n",
    "dataframe.to_csv('Model_Scores_pca.csv', index=False)"
   ]
  },
  {
   "cell_type": "markdown",
   "id": "0f60f2c2",
   "metadata": {},
   "source": [
    "# Cross Validation"
   ]
  },
  {
   "cell_type": "code",
   "execution_count": null,
   "id": "bcbec0b8",
   "metadata": {},
   "outputs": [
    {
     "name": "stdout",
     "output_type": "stream",
     "text": [
      "After applying 5-fold cross validation, the different accuracy scores obtained are------\n",
      "\n",
      "\n",
      "XGBoost:  [0.6278633623576692, 0.802277294038848, 0.8869239013933548, 0.8839764201500536, 0.8873258306538049]\n",
      "\n",
      "\n",
      "Average XGBoost Score 0.817673361718746\n"
     ]
    }
   ],
   "source": [
    "#XGBoost\n",
    "xgb_accuracy_scores = cross_val_score(xgb, X_train_res, y_train_res, cv=5, scoring='accuracy')\n",
    "\n",
    "print(\"After applying 5-fold cross validation, the different accuracy scores obtained are------\")\n",
    "print(\"\\n\")\n",
    "\n",
    "print(\"XGBoost: \",list(xgb_accuracy_scores))\n",
    "print(\"\\n\")\n",
    "\n",
    "print(\"Average XGBoost Score\", np.mean(xgb_accuracy_scores))"
   ]
  },
  {
   "cell_type": "code",
   "execution_count": null,
   "id": "bd73b326",
   "metadata": {},
   "outputs": [],
   "source": []
  },
  {
   "cell_type": "code",
   "execution_count": null,
   "id": "4748dd74",
   "metadata": {},
   "outputs": [],
   "source": []
  },
  {
   "cell_type": "code",
   "execution_count": null,
   "id": "6ebf4452",
   "metadata": {},
   "outputs": [],
   "source": []
  },
  {
   "cell_type": "code",
   "execution_count": null,
   "id": "6e88bb48",
   "metadata": {},
   "outputs": [],
   "source": []
  },
  {
   "cell_type": "code",
   "execution_count": null,
   "id": "9af685d0",
   "metadata": {},
   "outputs": [],
   "source": []
  },
  {
   "cell_type": "code",
   "execution_count": null,
   "id": "0a85a6a0",
   "metadata": {},
   "outputs": [],
   "source": []
  },
  {
   "cell_type": "code",
   "execution_count": null,
   "id": "e9b58dd2",
   "metadata": {},
   "outputs": [],
   "source": []
  },
  {
   "cell_type": "code",
   "execution_count": null,
   "id": "b304ea40",
   "metadata": {},
   "outputs": [],
   "source": []
  },
  {
   "cell_type": "code",
   "execution_count": null,
   "id": "2bc22d76",
   "metadata": {},
   "outputs": [],
   "source": []
  }
 ],
 "metadata": {
  "kernelspec": {
   "display_name": "Python 3.9.12 ('base')",
   "language": "python",
   "name": "python3"
  },
  "language_info": {
   "codemirror_mode": {
    "name": "ipython",
    "version": 3
   },
   "file_extension": ".py",
   "mimetype": "text/x-python",
   "name": "python",
   "nbconvert_exporter": "python",
   "pygments_lexer": "ipython3",
   "version": "3.9.12"
  },
  "vscode": {
   "interpreter": {
    "hash": "fcb6c75713917bbeb6c7e52097ffadadbac73d1b7694c3ec4fe4848cb90a5430"
   }
  }
 },
 "nbformat": 4,
 "nbformat_minor": 5
}
